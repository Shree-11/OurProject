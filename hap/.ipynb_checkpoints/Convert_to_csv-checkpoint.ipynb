{
 "cells": [
  {
   "cell_type": "code",
   "execution_count": 33,
   "metadata": {},
   "outputs": [],
   "source": [
    "import cv2 #used frame extraction / read video\n",
    "import pandas as pd #used for creating data frames\n",
    "import numpy as np #arrays and vectors\n",
    "from glob import glob # used to return all file paths that match a specific pattern\n",
    "# import lib_file\n",
    "import csv\n",
    "import os"
   ]
  },
  {
   "cell_type": "code",
   "execution_count": 34,
   "metadata": {},
   "outputs": [],
   "source": [
    "f = open('train_path.txt','r')\n",
    "temp=f.read()\n",
    "images = temp.split('|') #input/train/Arson/Arson037_x264.mp4 0"
   ]
  },
  {
   "cell_type": "code",
   "execution_count": 35,
   "metadata": {},
   "outputs": [
    {
     "data": {
      "text/html": [
       "<div>\n",
       "<style scoped>\n",
       "    .dataframe tbody tr th:only-of-type {\n",
       "        vertical-align: middle;\n",
       "    }\n",
       "\n",
       "    .dataframe tbody tr th {\n",
       "        vertical-align: top;\n",
       "    }\n",
       "\n",
       "    .dataframe thead th {\n",
       "        text-align: right;\n",
       "    }\n",
       "</style>\n",
       "<table border=\"1\" class=\"dataframe\">\n",
       "  <thead>\n",
       "    <tr style=\"text-align: right;\">\n",
       "      <th></th>\n",
       "      <th>image_name</th>\n",
       "    </tr>\n",
       "  </thead>\n",
       "  <tbody>\n",
       "    <tr>\n",
       "      <th>99194</th>\n",
       "      <td>input/train/V/V995.png 5</td>\n",
       "    </tr>\n",
       "    <tr>\n",
       "      <th>99195</th>\n",
       "      <td>input/train/V/V996.png 5</td>\n",
       "    </tr>\n",
       "    <tr>\n",
       "      <th>99196</th>\n",
       "      <td>input/train/V/V997.png 5</td>\n",
       "    </tr>\n",
       "    <tr>\n",
       "      <th>99197</th>\n",
       "      <td>input/train/V/V998.png 5</td>\n",
       "    </tr>\n",
       "    <tr>\n",
       "      <th>99198</th>\n",
       "      <td>input/train/V/V999.png 5</td>\n",
       "    </tr>\n",
       "  </tbody>\n",
       "</table>\n",
       "</div>"
      ],
      "text/plain": [
       "                     image_name\n",
       "99194  input/train/V/V995.png 5\n",
       "99195  input/train/V/V996.png 5\n",
       "99196  input/train/V/V997.png 5\n",
       "99197  input/train/V/V998.png 5\n",
       "99198  input/train/V/V999.png 5"
      ]
     },
     "execution_count": 35,
     "metadata": {},
     "output_type": "execute_result"
    }
   ],
   "source": [
    "train = pd.DataFrame()\n",
    "train['image_name'] = images\n",
    "train = train[:-1] # except last blank after |\n",
    "train.tail() #  displays the last five rows of the dataframe by default."
   ]
  },
  {
   "cell_type": "code",
   "execution_count": 36,
   "metadata": {},
   "outputs": [],
   "source": [
    "train_image_tag=[]\n",
    "for i in range(train.shape[0]): # number of videos in train variable\n",
    "    train_image_tag.append(train['image_name'][i].split('/')[2]) # split video-name and append 3rd term, i.e. normal, arson...\n",
    "train['tag'] = train_image_tag"
   ]
  },
  {
   "cell_type": "code",
   "execution_count": 42,
   "metadata": {},
   "outputs": [
    {
     "data": {
      "text/html": [
       "<div>\n",
       "<style scoped>\n",
       "    .dataframe tbody tr th:only-of-type {\n",
       "        vertical-align: middle;\n",
       "    }\n",
       "\n",
       "    .dataframe tbody tr th {\n",
       "        vertical-align: top;\n",
       "    }\n",
       "\n",
       "    .dataframe thead th {\n",
       "        text-align: right;\n",
       "    }\n",
       "</style>\n",
       "<table border=\"1\" class=\"dataframe\">\n",
       "  <thead>\n",
       "    <tr style=\"text-align: right;\">\n",
       "      <th></th>\n",
       "      <th>image_name</th>\n",
       "      <th>tag</th>\n",
       "    </tr>\n",
       "  </thead>\n",
       "  <tbody>\n",
       "    <tr>\n",
       "      <th>99194</th>\n",
       "      <td>input/train/V/V995.png 5</td>\n",
       "      <td>V</td>\n",
       "    </tr>\n",
       "    <tr>\n",
       "      <th>99195</th>\n",
       "      <td>input/train/V/V996.png 5</td>\n",
       "      <td>V</td>\n",
       "    </tr>\n",
       "    <tr>\n",
       "      <th>99196</th>\n",
       "      <td>input/train/V/V997.png 5</td>\n",
       "      <td>V</td>\n",
       "    </tr>\n",
       "    <tr>\n",
       "      <th>99197</th>\n",
       "      <td>input/train/V/V998.png 5</td>\n",
       "      <td>V</td>\n",
       "    </tr>\n",
       "    <tr>\n",
       "      <th>99198</th>\n",
       "      <td>input/train/V/V999.png 5</td>\n",
       "      <td>V</td>\n",
       "    </tr>\n",
       "  </tbody>\n",
       "</table>\n",
       "</div>"
      ],
      "text/plain": [
       "                     image_name tag\n",
       "99194  input/train/V/V995.png 5   V\n",
       "99195  input/train/V/V996.png 5   V\n",
       "99196  input/train/V/V997.png 5   V\n",
       "99197  input/train/V/V998.png 5   V\n",
       "99198  input/train/V/V999.png 5   V"
      ]
     },
     "execution_count": 42,
     "metadata": {},
     "output_type": "execute_result"
    }
   ],
   "source": [
    "train.tail()"
   ]
  },
  {
   "cell_type": "code",
   "execution_count": 41,
   "metadata": {},
   "outputs": [],
   "source": [
    "train_images = []\n",
    "train_class = []\n",
    "for i in range(0,train.shape[0]): # for each train video \n",
    "    imageFile = train['image_name'][i]\n",
    "    train_images.append(imageFile.split('/')[3].split(' ')[0])\n",
    "    train_class.append(imageFile.split('/')[2])\n",
    "    \n",
    "train_data = pd.DataFrame()\n",
    "train_data['image'] = train_images\n",
    "train_data['class'] = train_class\n",
    "train_data.to_csv('train_new.csv',header=True,index=False)"
   ]
  },
  {
   "cell_type": "code",
   "execution_count": null,
   "metadata": {},
   "outputs": [],
   "source": []
  }
 ],
 "metadata": {
  "kernelspec": {
   "display_name": "Python 3 (ipykernel)",
   "language": "python",
   "name": "python3"
  },
  "language_info": {
   "codemirror_mode": {
    "name": "ipython",
    "version": 3
   },
   "file_extension": ".py",
   "mimetype": "text/x-python",
   "name": "python",
   "nbconvert_exporter": "python",
   "pygments_lexer": "ipython3",
   "version": "3.7.3"
  }
 },
 "nbformat": 4,
 "nbformat_minor": 2
}
