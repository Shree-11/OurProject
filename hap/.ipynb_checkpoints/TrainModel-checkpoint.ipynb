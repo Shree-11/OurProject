{
 "cells": [
  {
   "cell_type": "code",
   "execution_count": 1,
   "id": "94fc06c6",
   "metadata": {},
   "outputs": [],
   "source": [
    "import numpy as np\n",
    "import pandas as pd\n",
    "from pathlib import Path\n",
    "import os.path\n",
    "import matplotlib.pyplot as plt\n",
    "import tensorflow as tf\n",
    "import cv2"
   ]
  },
  {
   "cell_type": "markdown",
   "id": "05828b62",
   "metadata": {},
   "source": [
    "<h2>N: Normal beat</h2>\n",
    "<h2>S: Supraventricular premature beat</h2>\n",
    "<h2>V: Premature ventricular contraction</h2>\n",
    "<h2>F: Fusion of ventricular and normal beat</h2>\n",
    "<h2>Q: Unclassifiable beat</h2>\n",
    "<h2>M: myocardial infarction</h2>"
   ]
  },
  {
   "cell_type": "code",
   "execution_count": 3,
   "id": "af978817",
   "metadata": {},
   "outputs": [
    {
     "data": {
      "text/html": [
       "<div>\n",
       "<style scoped>\n",
       "    .dataframe tbody tr th:only-of-type {\n",
       "        vertical-align: middle;\n",
       "    }\n",
       "\n",
       "    .dataframe tbody tr th {\n",
       "        vertical-align: top;\n",
       "    }\n",
       "\n",
       "    .dataframe thead th {\n",
       "        text-align: right;\n",
       "    }\n",
       "</style>\n",
       "<table border=\"1\" class=\"dataframe\">\n",
       "  <thead>\n",
       "    <tr style=\"text-align: right;\">\n",
       "      <th></th>\n",
       "      <th>Filepath</th>\n",
       "      <th>Label</th>\n",
       "    </tr>\n",
       "  </thead>\n",
       "  <tbody>\n",
       "    <tr>\n",
       "      <th>99194</th>\n",
       "      <td>input\\train\\V\\V995.png</td>\n",
       "      <td>V</td>\n",
       "    </tr>\n",
       "    <tr>\n",
       "      <th>99195</th>\n",
       "      <td>input\\train\\V\\V996.png</td>\n",
       "      <td>V</td>\n",
       "    </tr>\n",
       "    <tr>\n",
       "      <th>99196</th>\n",
       "      <td>input\\train\\V\\V997.png</td>\n",
       "      <td>V</td>\n",
       "    </tr>\n",
       "    <tr>\n",
       "      <th>99197</th>\n",
       "      <td>input\\train\\V\\V998.png</td>\n",
       "      <td>V</td>\n",
       "    </tr>\n",
       "    <tr>\n",
       "      <th>99198</th>\n",
       "      <td>input\\train\\V\\V999.png</td>\n",
       "      <td>V</td>\n",
       "    </tr>\n",
       "  </tbody>\n",
       "</table>\n",
       "</div>"
      ],
      "text/plain": [
       "                     Filepath Label\n",
       "99194  input\\train\\V\\V995.png     V\n",
       "99195  input\\train\\V\\V996.png     V\n",
       "99196  input\\train\\V\\V997.png     V\n",
       "99197  input\\train\\V\\V998.png     V\n",
       "99198  input\\train\\V\\V999.png     V"
      ]
     },
     "execution_count": 3,
     "metadata": {},
     "output_type": "execute_result"
    }
   ],
   "source": [
    "dir = Path('input/train')\n",
    "\n",
    "filepaths = list(dir.glob(r'**/*.png'))\n",
    "labels = list(map(lambda x: os.path.split(os.path.split(x)[0])[1], filepaths))\n",
    "\n",
    "\n",
    "filepaths = pd.Series(filepaths, name='Filepath').astype(str)\n",
    "labels = pd.Series(labels, name='Label')\n",
    "\n",
    "dataframe = pd.concat([filepaths , labels] , axis=1)\n",
    "dataframe.tail()"
   ]
  },
  {
   "cell_type": "code",
   "execution_count": 4,
   "id": "37948d91",
   "metadata": {},
   "outputs": [
    {
     "data": {
      "text/plain": [
       "N    75709\n",
       "M     8405\n",
       "Q     6431\n",
       "V     5789\n",
       "S     2223\n",
       "F      642\n",
       "Name: Label, dtype: int64"
      ]
     },
     "execution_count": 4,
     "metadata": {},
     "output_type": "execute_result"
    }
   ],
   "source": [
    "dataframe['Label'].value_counts()"
   ]
  },
  {
   "cell_type": "code",
   "execution_count": 5,
   "id": "ebc7af20",
   "metadata": {},
   "outputs": [
    {
     "data": {
      "text/plain": [
       "N    640\n",
       "Q    640\n",
       "S    640\n",
       "F    640\n",
       "M    640\n",
       "V    640\n",
       "Name: Label, dtype: int64"
      ]
     },
     "execution_count": 5,
     "metadata": {},
     "output_type": "execute_result"
    }
   ],
   "source": [
    "samples = []\n",
    "for category in ['N','M','Q','V','S','F']:\n",
    "    category_slice = dataframe.query(\"Label == @category\")\n",
    "    samples.append(category_slice.sample(640, random_state=1))\n",
    "\n",
    "dataframe_train = pd.concat(samples, axis=0).sample(frac=1.0, random_state=1).reset_index(drop=True)\n",
    "dataframe_train['Label'].value_counts()"
   ]
  },
  {
   "cell_type": "code",
   "execution_count": 6,
   "id": "9a095a69",
   "metadata": {},
   "outputs": [
    {
     "data": {
      "text/html": [
       "<div>\n",
       "<style scoped>\n",
       "    .dataframe tbody tr th:only-of-type {\n",
       "        vertical-align: middle;\n",
       "    }\n",
       "\n",
       "    .dataframe tbody tr th {\n",
       "        vertical-align: top;\n",
       "    }\n",
       "\n",
       "    .dataframe thead th {\n",
       "        text-align: right;\n",
       "    }\n",
       "</style>\n",
       "<table border=\"1\" class=\"dataframe\">\n",
       "  <thead>\n",
       "    <tr style=\"text-align: right;\">\n",
       "      <th></th>\n",
       "      <th>Filepath</th>\n",
       "      <th>Label</th>\n",
       "    </tr>\n",
       "  </thead>\n",
       "  <tbody>\n",
       "    <tr>\n",
       "      <th>3835</th>\n",
       "      <td>input\\train\\S\\S1594.png</td>\n",
       "      <td>S</td>\n",
       "    </tr>\n",
       "    <tr>\n",
       "      <th>3836</th>\n",
       "      <td>input\\train\\M\\M5641.png</td>\n",
       "      <td>M</td>\n",
       "    </tr>\n",
       "    <tr>\n",
       "      <th>3837</th>\n",
       "      <td>input\\train\\M\\M8804.png</td>\n",
       "      <td>M</td>\n",
       "    </tr>\n",
       "    <tr>\n",
       "      <th>3838</th>\n",
       "      <td>input\\train\\N\\N46498.png</td>\n",
       "      <td>N</td>\n",
       "    </tr>\n",
       "    <tr>\n",
       "      <th>3839</th>\n",
       "      <td>input\\train\\M\\M7168.png</td>\n",
       "      <td>M</td>\n",
       "    </tr>\n",
       "  </tbody>\n",
       "</table>\n",
       "</div>"
      ],
      "text/plain": [
       "                      Filepath Label\n",
       "3835   input\\train\\S\\S1594.png     S\n",
       "3836   input\\train\\M\\M5641.png     M\n",
       "3837   input\\train\\M\\M8804.png     M\n",
       "3838  input\\train\\N\\N46498.png     N\n",
       "3839   input\\train\\M\\M7168.png     M"
      ]
     },
     "execution_count": 6,
     "metadata": {},
     "output_type": "execute_result"
    }
   ],
   "source": [
    "dataframe_train.tail()"
   ]
  },
  {
   "cell_type": "code",
   "execution_count": 8,
   "id": "19085c81",
   "metadata": {},
   "outputs": [
    {
     "data": {
      "text/html": [
       "<div>\n",
       "<style scoped>\n",
       "    .dataframe tbody tr th:only-of-type {\n",
       "        vertical-align: middle;\n",
       "    }\n",
       "\n",
       "    .dataframe tbody tr th {\n",
       "        vertical-align: top;\n",
       "    }\n",
       "\n",
       "    .dataframe thead th {\n",
       "        text-align: right;\n",
       "    }\n",
       "</style>\n",
       "<table border=\"1\" class=\"dataframe\">\n",
       "  <thead>\n",
       "    <tr style=\"text-align: right;\">\n",
       "      <th></th>\n",
       "      <th>Filepath</th>\n",
       "      <th>Label</th>\n",
       "    </tr>\n",
       "  </thead>\n",
       "  <tbody>\n",
       "    <tr>\n",
       "      <th>24794</th>\n",
       "      <td>input\\test\\V\\V98.png</td>\n",
       "      <td>V</td>\n",
       "    </tr>\n",
       "    <tr>\n",
       "      <th>24795</th>\n",
       "      <td>input\\test\\V\\V981.png</td>\n",
       "      <td>V</td>\n",
       "    </tr>\n",
       "    <tr>\n",
       "      <th>24796</th>\n",
       "      <td>input\\test\\V\\V986.png</td>\n",
       "      <td>V</td>\n",
       "    </tr>\n",
       "    <tr>\n",
       "      <th>24797</th>\n",
       "      <td>input\\test\\V\\V987.png</td>\n",
       "      <td>V</td>\n",
       "    </tr>\n",
       "    <tr>\n",
       "      <th>24798</th>\n",
       "      <td>input\\test\\V\\V991.png</td>\n",
       "      <td>V</td>\n",
       "    </tr>\n",
       "  </tbody>\n",
       "</table>\n",
       "</div>"
      ],
      "text/plain": [
       "                    Filepath Label\n",
       "24794   input\\test\\V\\V98.png     V\n",
       "24795  input\\test\\V\\V981.png     V\n",
       "24796  input\\test\\V\\V986.png     V\n",
       "24797  input\\test\\V\\V987.png     V\n",
       "24798  input\\test\\V\\V991.png     V"
      ]
     },
     "execution_count": 8,
     "metadata": {},
     "output_type": "execute_result"
    }
   ],
   "source": [
    "dir = Path('input/test')\n",
    "\n",
    "filepaths = list(dir.glob(r'**/*.png'))\n",
    "labels = list(map(lambda x: os.path.split(os.path.split(x)[0])[1], filepaths))\n",
    "\n",
    "filepaths = pd.Series(filepaths, name='Filepath').astype(str)\n",
    "labels = pd.Series(labels, name='Label')\n",
    "\n",
    "dataframe_test = pd.concat([filepaths , labels] , axis=1)\n",
    "dataframe_test.tail()"
   ]
  },
  {
   "cell_type": "code",
   "execution_count": 9,
   "id": "2537c663",
   "metadata": {},
   "outputs": [
    {
     "data": {
      "text/plain": [
       "N    18926\n",
       "M     2101\n",
       "Q     1608\n",
       "V     1447\n",
       "S      556\n",
       "F      161\n",
       "Name: Label, dtype: int64"
      ]
     },
     "execution_count": 9,
     "metadata": {},
     "output_type": "execute_result"
    }
   ],
   "source": [
    "dataframe_test['Label'].value_counts()"
   ]
  },
  {
   "cell_type": "code",
   "execution_count": 10,
   "id": "b608ced5",
   "metadata": {},
   "outputs": [
    {
     "data": {
      "text/plain": [
       "M    160\n",
       "F    160\n",
       "Q    160\n",
       "N    160\n",
       "V    160\n",
       "S    160\n",
       "Name: Label, dtype: int64"
      ]
     },
     "execution_count": 10,
     "metadata": {},
     "output_type": "execute_result"
    }
   ],
   "source": [
    "samples = []\n",
    "for category in ['N','M','Q','V','S','F']:\n",
    "    category_slice = dataframe_test.query(\"Label == @category\")\n",
    "    samples.append(category_slice.sample(160, random_state=1))\n",
    "\n",
    "dataframe_test = pd.concat(samples, axis=0).sample(frac=1.0, random_state=1).reset_index(drop=True)\n",
    "dataframe_test['Label'].value_counts()"
   ]
  },
  {
   "cell_type": "code",
   "execution_count": 11,
   "id": "0d857f5d",
   "metadata": {},
   "outputs": [
    {
     "data": {
      "text/html": [
       "<div>\n",
       "<style scoped>\n",
       "    .dataframe tbody tr th:only-of-type {\n",
       "        vertical-align: middle;\n",
       "    }\n",
       "\n",
       "    .dataframe tbody tr th {\n",
       "        vertical-align: top;\n",
       "    }\n",
       "\n",
       "    .dataframe thead th {\n",
       "        text-align: right;\n",
       "    }\n",
       "</style>\n",
       "<table border=\"1\" class=\"dataframe\">\n",
       "  <thead>\n",
       "    <tr style=\"text-align: right;\">\n",
       "      <th></th>\n",
       "      <th>Filepath</th>\n",
       "      <th>Label</th>\n",
       "    </tr>\n",
       "  </thead>\n",
       "  <tbody>\n",
       "    <tr>\n",
       "      <th>955</th>\n",
       "      <td>input\\test\\S\\S1979.png</td>\n",
       "      <td>S</td>\n",
       "    </tr>\n",
       "    <tr>\n",
       "      <th>956</th>\n",
       "      <td>input\\test\\N\\N26059.png</td>\n",
       "      <td>N</td>\n",
       "    </tr>\n",
       "    <tr>\n",
       "      <th>957</th>\n",
       "      <td>input\\test\\F\\F418.png</td>\n",
       "      <td>F</td>\n",
       "    </tr>\n",
       "    <tr>\n",
       "      <th>958</th>\n",
       "      <td>input\\test\\M\\M971.png</td>\n",
       "      <td>M</td>\n",
       "    </tr>\n",
       "    <tr>\n",
       "      <th>959</th>\n",
       "      <td>input\\test\\N\\N84538.png</td>\n",
       "      <td>N</td>\n",
       "    </tr>\n",
       "  </tbody>\n",
       "</table>\n",
       "</div>"
      ],
      "text/plain": [
       "                    Filepath Label\n",
       "955   input\\test\\S\\S1979.png     S\n",
       "956  input\\test\\N\\N26059.png     N\n",
       "957    input\\test\\F\\F418.png     F\n",
       "958    input\\test\\M\\M971.png     M\n",
       "959  input\\test\\N\\N84538.png     N"
      ]
     },
     "execution_count": 11,
     "metadata": {},
     "output_type": "execute_result"
    }
   ],
   "source": [
    "dataframe_test.tail()"
   ]
  },
  {
   "cell_type": "markdown",
   "id": "b4f328cd",
   "metadata": {},
   "source": [
    "<h1>Image generators</h1>"
   ]
  },
  {
   "cell_type": "code",
   "execution_count": 12,
   "id": "4144e8e1",
   "metadata": {},
   "outputs": [],
   "source": [
    "def gray_torgb(image):\n",
    "    image = cv2.cvtColor(image, cv2.COLOR_BGR2GRAY)\n",
    "    image = cv2.merge((image,image,image))\n",
    "    image = tf.keras.applications.resnet50.preprocess_input(image)\n",
    "    return image"
   ]
  },
  {
   "cell_type": "code",
   "execution_count": 13,
   "id": "77b71e35",
   "metadata": {},
   "outputs": [],
   "source": [
    "train_generator = tf.keras.preprocessing.image.ImageDataGenerator(\n",
    "    preprocessing_function=gray_torgb,\n",
    "    rescale=1./255,\n",
    "    validation_split=0.2\n",
    "  \n",
    ")\n",
    "\n",
    "test_generator = tf.keras.preprocessing.image.ImageDataGenerator(\n",
    "    preprocessing_function=gray_torgb,\n",
    "    rescale=1./255\n",
    ")"
   ]
  },
  {
   "cell_type": "code",
   "execution_count": 14,
   "id": "f402cbe6",
   "metadata": {},
   "outputs": [
    {
     "name": "stdout",
     "output_type": "stream",
     "text": [
      "Found 3072 validated image filenames belonging to 6 classes.\n",
      "Found 768 validated image filenames belonging to 6 classes.\n",
      "Found 960 validated image filenames belonging to 6 classes.\n"
     ]
    }
   ],
   "source": [
    "size=224\n",
    "color_mode='rgb'\n",
    "batch_size=32\n",
    "\n",
    "train_images = train_generator.flow_from_dataframe(\n",
    "    dataframe=dataframe_train,\n",
    "    x_col='Filepath',\n",
    "    y_col='Label',\n",
    "    target_size=(size, size),\n",
    "    color_mode=color_mode,\n",
    "    class_mode='categorical',\n",
    "    batch_size=batch_size,\n",
    "    shuffle=True,\n",
    "    seed=42,\n",
    "    subset='training'\n",
    ")\n",
    "\n",
    "val_images = train_generator.flow_from_dataframe(\n",
    "    dataframe=dataframe_train,\n",
    "    x_col='Filepath',\n",
    "    y_col='Label',\n",
    "    target_size=(size, size),\n",
    "    color_mode=color_mode,\n",
    "    class_mode='categorical',\n",
    "    batch_size=batch_size,\n",
    "    shuffle=True,\n",
    "    seed=42,\n",
    "    subset='validation'\n",
    ")\n",
    "\n",
    "test_images = test_generator.flow_from_dataframe(\n",
    "    dataframe=dataframe_test,\n",
    "    x_col='Filepath',\n",
    "    y_col='Label',\n",
    "    target_size=(size, size),\n",
    "    color_mode=color_mode,\n",
    "    class_mode='categorical',\n",
    "    batch_size=batch_size,\n",
    "    shuffle=False\n",
    ")"
   ]
  },
  {
   "cell_type": "code",
   "execution_count": 15,
   "id": "aab8e915",
   "metadata": {},
   "outputs": [
    {
     "data": {
      "text/plain": [
       "{'F': 0, 'M': 1, 'N': 2, 'Q': 3, 'S': 4, 'V': 5}"
      ]
     },
     "execution_count": 15,
     "metadata": {},
     "output_type": "execute_result"
    }
   ],
   "source": [
    "test_images.class_indices"
   ]
  },
  {
   "cell_type": "code",
   "execution_count": 16,
   "id": "e5061048",
   "metadata": {},
   "outputs": [
    {
     "data": {
      "text/plain": [
       "<matplotlib.image.AxesImage at 0x25ff292f910>"
      ]
     },
     "execution_count": 16,
     "metadata": {},
     "output_type": "execute_result"
    },
    {
     "data": {
      "image/png": "[encoded data removed]",
      "text/plain": [
       "<Figure size 640x480 with 1 Axes>"
      ]
     },
     "metadata": {},
     "output_type": "display_data"
    }
   ],
   "source": [
    "plt.imshow(test_images[0][0][3])"
   ]
  },
  {
   "cell_type": "code",
   "execution_count": 20,
   "id": "7dbeb6eb",
   "metadata": {},
   "outputs": [
    {
     "name": "stdout",
     "output_type": "stream",
     "text": [
      "Downloading data from https://storage.googleapis.com/tensorflow/keras-applications/resnet/resnet50_weights_tf_dim_ordering_tf_kernels_notop.h5\n",
      "94765736/94765736 [==============================] - 9s 0us/step\n"
     ]
    }
   ],
   "source": [
    "from tensorflow.keras.applications import ResNet50\n",
    "pretrained_model = ResNet50(\n",
    "                              input_shape=(224,224,3),\n",
    "                              include_top= False,\n",
    "                              weights='imagenet',\n",
    "                              pooling='avg'\n",
    "                              )\n",
    "\n",
    "pretrained_model.trainable = False"
   ]
  },
  {
   "cell_type": "code",
   "execution_count": 21,
   "id": "6d02b024",
   "metadata": {},
   "outputs": [
    {
     "name": "stdout",
     "output_type": "stream",
     "text": [
      "Model: \"sequential\"\n",
      "_________________________________________________________________\n",
      " Layer (type)                Output Shape              Param #   \n",
      "=================================================================\n",
      " resnet50 (Functional)       (None, 2048)              23587712  \n",
      "                                                                 \n",
      " flatten (Flatten)           (None, 2048)              0         \n",
      "                                                                 \n",
      " dropout (Dropout)           (None, 2048)              0         \n",
      "                                                                 \n",
      " dense (Dense)               (None, 128)               262272    \n",
      "                                                                 \n",
      " dense_1 (Dense)             (None, 64)                8256      \n",
      "                                                                 \n",
      " dense_2 (Dense)             (None, 6)                 390       \n",
      "                                                                 \n",
      "=================================================================\n",
      "Total params: 23,858,630\n",
      "Trainable params: 270,918\n",
      "Non-trainable params: 23,587,712\n",
      "_________________________________________________________________\n"
     ]
    }
   ],
   "source": [
    "from tensorflow.keras.layers import *\n",
    "from tensorflow.keras.models import *\n",
    "\n",
    "model = Sequential ([\n",
    "                        pretrained_model,\n",
    "                        Flatten(),\n",
    "                        Dropout(0.2),\n",
    "                        Dense(128, activation='relu'),\n",
    "                        Dense(64, activation='relu'),\n",
    "                        Dense(6, activation='softmax')\n",
    "                    ])\n",
    "\n",
    "\n",
    "model.summary()"
   ]
  },
  {
   "cell_type": "code",
   "execution_count": 22,
   "id": "d4be8b7e",
   "metadata": {},
   "outputs": [],
   "source": [
    "import keras\n",
    "checkpoint = keras.callbacks.ModelCheckpoint(\n",
    "    filepath='best_model.h5',\n",
    "    save_weights_only=False,\n",
    "    monitor='val_accuracy',\n",
    "    mode='max',\n",
    "    save_best_only=True,\n",
    "    verbose=1)"
   ]
  },
  {
   "cell_type": "code",
   "execution_count": 23,
   "id": "b0855d8b",
   "metadata": {},
   "outputs": [],
   "source": [
    "model.compile(loss='categorical_crossentropy',optimizer='adam',\n",
    "            metrics=['accuracy',\n",
    "                     'Precision',\n",
    "                     'Recall',\n",
    "                     tf.keras.metrics.AUC(\n",
    "                                    num_thresholds=200,\n",
    "                                    curve=\"ROC\",\n",
    "                                    summation_method=\"interpolation\",\n",
    "                                    multi_label=False\n",
    "                                    )])"
   ]
  },
  {
   "cell_type": "code",
   "execution_count": 25,
   "id": "1abf60ed",
   "metadata": {},
   "outputs": [
    {
     "name": "stdout",
     "output_type": "stream",
     "text": [
      "Epoch 1/10\n",
      "96/96 [==============================] - ETA: 0s - loss: 1.1611 - accuracy: 0.5212 - precision: 0.7732 - recall: 0.1953 - auc: 0.8769\n",
      "Epoch 1: val_accuracy improved from -inf to 0.86849, saving model to best_model.h5\n",
      "96/96 [==============================] - 848s 9s/step - loss: 1.1611 - accuracy: 0.5212 - precision: 0.7732 - recall: 0.1953 - auc: 0.8769 - val_loss: 0.7051 - val_accuracy: 0.8685 - val_precision: 0.8848 - val_recall: 0.4701 - val_auc: 0.9738\n",
      "Epoch 2/10\n",
      "96/96 [==============================] - ETA: 0s - loss: 0.6601 - accuracy: 0.7458 - precision: 0.7915 - recall: 0.6029 - auc: 0.9599\n",
      "Epoch 2: val_accuracy improved from 0.86849 to 0.87109, saving model to best_model.h5\n",
      "96/96 [==============================] - 555s 6s/step - loss: 0.6601 - accuracy: 0.7458 - precision: 0.7915 - recall: 0.6029 - auc: 0.9599 - val_loss: 0.5015 - val_accuracy: 0.8711 - val_precision: 0.9053 - val_recall: 0.7591 - val_auc: 0.9834\n",
      "Epoch 3/10\n",
      "96/96 [==============================] - ETA: 0s - loss: 0.4947 - accuracy: 0.8249 - precision: 0.8472 - recall: 0.7812 - auc: 0.9772\n",
      "Epoch 3: val_accuracy improved from 0.87109 to 0.92057, saving model to best_model.h5\n",
      "96/96 [==============================] - 444s 5s/step - loss: 0.4947 - accuracy: 0.8249 - precision: 0.8472 - recall: 0.7812 - auc: 0.9772 - val_loss: 0.3461 - val_accuracy: 0.9206 - val_precision: 0.9273 - val_recall: 0.9141 - val_auc: 0.9920\n",
      "Epoch 4/10\n",
      "96/96 [==============================] - ETA: 0s - loss: 0.3831 - accuracy: 0.8734 - precision: 0.8818 - recall: 0.8594 - auc: 0.9861\n",
      "Epoch 4: val_accuracy did not improve from 0.92057\n",
      "96/96 [==============================] - 703s 7s/step - loss: 0.3831 - accuracy: 0.8734 - precision: 0.8818 - recall: 0.8594 - auc: 0.9861 - val_loss: 0.2960 - val_accuracy: 0.9154 - val_precision: 0.9222 - val_recall: 0.9102 - val_auc: 0.9930\n",
      "Epoch 5/10\n",
      "96/96 [==============================] - ETA: 0s - loss: 0.3332 - accuracy: 0.8796 - precision: 0.8886 - recall: 0.8724 - auc: 0.9888\n",
      "Epoch 5: val_accuracy did not improve from 0.92057\n",
      "96/96 [==============================] - 494s 5s/step - loss: 0.3332 - accuracy: 0.8796 - precision: 0.8886 - recall: 0.8724 - auc: 0.9888 - val_loss: 0.2807 - val_accuracy: 0.9128 - val_precision: 0.9196 - val_recall: 0.9089 - val_auc: 0.9925\n",
      "Epoch 6/10\n",
      "96/96 [==============================] - ETA: 0s - loss: 0.2935 - accuracy: 0.8965 - precision: 0.9038 - recall: 0.8926 - auc: 0.9907\n",
      "Epoch 6: val_accuracy improved from 0.92057 to 0.93229, saving model to best_model.h5\n",
      "96/96 [==============================] - 559s 6s/step - loss: 0.2935 - accuracy: 0.8965 - precision: 0.9038 - recall: 0.8926 - auc: 0.9907 - val_loss: 0.2268 - val_accuracy: 0.9323 - val_precision: 0.9396 - val_recall: 0.9310 - val_auc: 0.9951\n",
      "Epoch 7/10\n",
      "96/96 [==============================] - ETA: 0s - loss: 0.2807 - accuracy: 0.8997 - precision: 0.9059 - recall: 0.8932 - auc: 0.9912\n",
      "Epoch 7: val_accuracy did not improve from 0.93229\n",
      "96/96 [==============================] - 947s 10s/step - loss: 0.2807 - accuracy: 0.8997 - precision: 0.9059 - recall: 0.8932 - auc: 0.9912 - val_loss: 0.2036 - val_accuracy: 0.9219 - val_precision: 0.9255 - val_recall: 0.9219 - val_auc: 0.9954\n",
      "Epoch 8/10\n",
      "96/96 [==============================] - ETA: 0s - loss: 0.3031 - accuracy: 0.8822 - precision: 0.8861 - recall: 0.8789 - auc: 0.9889\n",
      "Epoch 8: val_accuracy did not improve from 0.93229\n",
      "96/96 [==============================] - 502s 5s/step - loss: 0.3031 - accuracy: 0.8822 - precision: 0.8861 - recall: 0.8789 - auc: 0.9889 - val_loss: 0.3059 - val_accuracy: 0.8828 - val_precision: 0.8834 - val_recall: 0.8776 - val_auc: 0.9884\n",
      "Epoch 9/10\n",
      "96/96 [==============================] - ETA: 0s - loss: 0.2615 - accuracy: 0.9049 - precision: 0.9081 - recall: 0.9010 - auc: 0.9917\n",
      "Epoch 9: val_accuracy improved from 0.93229 to 0.94141, saving model to best_model.h5\n",
      "96/96 [==============================] - 568s 6s/step - loss: 0.2615 - accuracy: 0.9049 - precision: 0.9081 - recall: 0.9010 - auc: 0.9917 - val_loss: 0.1703 - val_accuracy: 0.9414 - val_precision: 0.9426 - val_recall: 0.9401 - val_auc: 0.9967\n",
      "Epoch 10/10\n",
      "96/96 [==============================] - ETA: 0s - loss: 0.2375 - accuracy: 0.9131 - precision: 0.9171 - recall: 0.9115 - auc: 0.9928\n",
      "Epoch 10: val_accuracy improved from 0.94141 to 0.94661, saving model to best_model.h5\n",
      "96/96 [==============================] - 530s 6s/step - loss: 0.2375 - accuracy: 0.9131 - precision: 0.9171 - recall: 0.9115 - auc: 0.9928 - val_loss: 0.1639 - val_accuracy: 0.9466 - val_precision: 0.9465 - val_recall: 0.9440 - val_auc: 0.9968\n",
      "Wall time: 1h 42min 30s\n"
     ]
    }
   ],
   "source": [
    "%%time\n",
    "result=model.fit(\n",
    "    train_images,\n",
    "    steps_per_epoch=3072//32,\n",
    "    validation_data=val_images,\n",
    "    validation_steps=768//32,\n",
    "    epochs=10,\n",
    "    callbacks=[checkpoint]\n",
    ")"
   ]
  },
  {
   "cell_type": "code",
   "execution_count": 26,
   "id": "f686075e",
   "metadata": {},
   "outputs": [
    {
     "ename": "OSError",
     "evalue": "No file or directory found at /kaggle/working/best_model.h5",
     "output_type": "error",
     "traceback": [
      "\u001b[1;31m---------------------------------------------------------------------------\u001b[0m",
      "\u001b[1;31mOSError\u001b[0m                                   Traceback (most recent call last)",
      "\u001b[1;32m~\\AppData\\Local\\Temp\\ipykernel_3960\\2040378603.py\u001b[0m in \u001b[0;36m<module>\u001b[1;34m\u001b[0m\n\u001b[0;32m      1\u001b[0m \u001b[1;32mfrom\u001b[0m \u001b[0mkeras\u001b[0m\u001b[1;33m.\u001b[0m\u001b[0mmodels\u001b[0m \u001b[1;32mimport\u001b[0m \u001b[0mload_model\u001b[0m\u001b[1;33m\u001b[0m\u001b[1;33m\u001b[0m\u001b[0m\n\u001b[1;32m----> 2\u001b[1;33m \u001b[0mbest_model\u001b[0m\u001b[1;33m=\u001b[0m\u001b[0mload_model\u001b[0m\u001b[1;33m(\u001b[0m\u001b[1;34m'/kaggle/working/best_model.h5'\u001b[0m\u001b[1;33m)\u001b[0m\u001b[1;33m\u001b[0m\u001b[1;33m\u001b[0m\u001b[0m\n\u001b[0m\u001b[0;32m      3\u001b[0m \u001b[0mresults\u001b[0m \u001b[1;33m=\u001b[0m \u001b[0mbest_model\u001b[0m\u001b[1;33m.\u001b[0m\u001b[0mevaluate\u001b[0m\u001b[1;33m(\u001b[0m\u001b[0mtest_images\u001b[0m\u001b[1;33m,\u001b[0m \u001b[0mverbose\u001b[0m\u001b[1;33m=\u001b[0m\u001b[1;36m0\u001b[0m\u001b[1;33m)\u001b[0m\u001b[1;33m\u001b[0m\u001b[1;33m\u001b[0m\u001b[0m\n\u001b[0;32m      4\u001b[0m \u001b[1;33m\u001b[0m\u001b[0m\n\u001b[0;32m      5\u001b[0m \u001b[0mprint\u001b[0m\u001b[1;33m(\u001b[0m\u001b[1;34m\"     Test Loss: {:.4f}\"\u001b[0m\u001b[1;33m.\u001b[0m\u001b[0mformat\u001b[0m\u001b[1;33m(\u001b[0m\u001b[0mresults\u001b[0m\u001b[1;33m[\u001b[0m\u001b[1;36m0\u001b[0m\u001b[1;33m]\u001b[0m\u001b[1;33m)\u001b[0m\u001b[1;33m)\u001b[0m\u001b[1;33m\u001b[0m\u001b[1;33m\u001b[0m\u001b[0m\n",
      "\u001b[1;32m~\\anaconda3\\lib\\site-packages\\keras\\utils\\traceback_utils.py\u001b[0m in \u001b[0;36merror_handler\u001b[1;34m(*args, **kwargs)\u001b[0m\n\u001b[0;32m     68\u001b[0m             \u001b[1;31m# To get the full stack trace, call:\u001b[0m\u001b[1;33m\u001b[0m\u001b[1;33m\u001b[0m\u001b[0m\n\u001b[0;32m     69\u001b[0m             \u001b[1;31m# `tf.debugging.disable_traceback_filtering()`\u001b[0m\u001b[1;33m\u001b[0m\u001b[1;33m\u001b[0m\u001b[0m\n\u001b[1;32m---> 70\u001b[1;33m             \u001b[1;32mraise\u001b[0m \u001b[0me\u001b[0m\u001b[1;33m.\u001b[0m\u001b[0mwith_traceback\u001b[0m\u001b[1;33m(\u001b[0m\u001b[0mfiltered_tb\u001b[0m\u001b[1;33m)\u001b[0m \u001b[1;32mfrom\u001b[0m \u001b[1;32mNone\u001b[0m\u001b[1;33m\u001b[0m\u001b[1;33m\u001b[0m\u001b[0m\n\u001b[0m\u001b[0;32m     71\u001b[0m         \u001b[1;32mfinally\u001b[0m\u001b[1;33m:\u001b[0m\u001b[1;33m\u001b[0m\u001b[1;33m\u001b[0m\u001b[0m\n\u001b[0;32m     72\u001b[0m             \u001b[1;32mdel\u001b[0m \u001b[0mfiltered_tb\u001b[0m\u001b[1;33m\u001b[0m\u001b[1;33m\u001b[0m\u001b[0m\n",
      "\u001b[1;32m~\\anaconda3\\lib\\site-packages\\keras\\saving\\legacy\\save.py\u001b[0m in \u001b[0;36mload_model\u001b[1;34m(filepath, custom_objects, compile, options)\u001b[0m\n\u001b[0;32m    225\u001b[0m                 \u001b[1;32mif\u001b[0m \u001b[0misinstance\u001b[0m\u001b[1;33m(\u001b[0m\u001b[0mfilepath_str\u001b[0m\u001b[1;33m,\u001b[0m \u001b[0mstr\u001b[0m\u001b[1;33m)\u001b[0m\u001b[1;33m:\u001b[0m\u001b[1;33m\u001b[0m\u001b[1;33m\u001b[0m\u001b[0m\n\u001b[0;32m    226\u001b[0m                     \u001b[1;32mif\u001b[0m \u001b[1;32mnot\u001b[0m \u001b[0mtf\u001b[0m\u001b[1;33m.\u001b[0m\u001b[0mio\u001b[0m\u001b[1;33m.\u001b[0m\u001b[0mgfile\u001b[0m\u001b[1;33m.\u001b[0m\u001b[0mexists\u001b[0m\u001b[1;33m(\u001b[0m\u001b[0mfilepath_str\u001b[0m\u001b[1;33m)\u001b[0m\u001b[1;33m:\u001b[0m\u001b[1;33m\u001b[0m\u001b[1;33m\u001b[0m\u001b[0m\n\u001b[1;32m--> 227\u001b[1;33m                         raise IOError(\n\u001b[0m\u001b[0;32m    228\u001b[0m                             \u001b[1;34mf\"No file or directory found at {filepath_str}\"\u001b[0m\u001b[1;33m\u001b[0m\u001b[1;33m\u001b[0m\u001b[0m\n\u001b[0;32m    229\u001b[0m                         )\n",
      "\u001b[1;31mOSError\u001b[0m: No file or directory found at /kaggle/working/best_model.h5"
     ]
    }
   ],
   "source": [
    "from keras.models import load_model\n",
    "best_model=load_model('/best_model.h5')\n",
    "results = best_model.evaluate(test_images, verbose=0)\n",
    "\n",
    "print(\"     Test Loss: {:.4f}\".format(results[0]))\n",
    "print(\" Test Accuracy: {:.4f}%\".format(results[1] * 100))\n",
    "print(\"Test Precision: {:.4f}%\".format(results[2] * 100))\n",
    "print(\"   Test Recall: {:.4f}%\".format(results[3] * 100))\n",
    "print(\"      Test AUC: {:.4f}\".format(results[4] ))"
   ]
  },
  {
   "cell_type": "code",
   "execution_count": null,
   "id": "22e75db5",
   "metadata": {},
   "outputs": [],
   "source": [
    "import matplotlib.pyplot as plt\n",
    "\n",
    "plt.plot(result.history['loss'])\n",
    "plt.plot(result.history['val_loss'])\n",
    "plt.legend(['Training', 'Validation'])\n",
    "plt.title('Training and Validation losses')\n",
    "plt.xlabel('epoch')\n",
    "plt.ylabel('loss')\n",
    "plt.savefig( 'loss.jpg', dpi=500, bbox_inches = 'tight')"
   ]
  },
  {
   "cell_type": "code",
   "execution_count": null,
   "id": "e6045eb1",
   "metadata": {},
   "outputs": [],
   "source": [
    "plt.plot(result.history['accuracy'])\n",
    "plt.plot(result.history['val_accuracy'])\n",
    "plt.legend(['Training', 'Validation'])\n",
    "plt.title('Training and Validation accuracy')\n",
    "plt.xlabel('epoch')\n",
    "plt.ylabel('accuracy')\n",
    "plt.savefig( 'accuracy.jpg', dpi=500, bbox_inches = 'tight')"
   ]
  },
  {
   "cell_type": "code",
   "execution_count": null,
   "id": "75b8cf48",
   "metadata": {},
   "outputs": [],
   "source": [
    "y_pred = best_model.predict(test_images)\n",
    "y_pred"
   ]
  },
  {
   "cell_type": "code",
   "execution_count": null,
   "id": "3d331178",
   "metadata": {},
   "outputs": [],
   "source": [
    "y_pred = np.argmax(y_pred, axis=1)\n",
    "y_pred"
   ]
  },
  {
   "cell_type": "code",
   "execution_count": null,
   "id": "fc64d2da",
   "metadata": {},
   "outputs": [],
   "source": [
    "from sklearn.metrics import confusion_matrix, classification_report\n",
    "\n",
    "\n",
    "cm = confusion_matrix(test_images.labels, y_pred)\n",
    "print(cm)\n",
    "\n",
    "report = classification_report(test_images.labels, y_pred, target_names=['F', 'M', 'N', 'Q', 'S', 'V'],digits=4)\n",
    "print(report )\n",
    "\n",
    "def report_to_df(report):\n",
    "    report = [x.split(' ') for x in report.split('\\n')]\n",
    "    header = ['Class Name']+[x for x in report[0] if x!='']\n",
    "    values = []\n",
    "    for row in report[1:-5]:\n",
    "        row = [value for value in row if value!='']\n",
    "        if row!=[]:\n",
    "            values.append(row)\n",
    "    df = pd.DataFrame(data = values, columns = header)\n",
    "    return df\n",
    "report = report_to_df(report)\n",
    "\n",
    "report.to_csv('classification report.csv', index=True)"
   ]
  },
  {
   "cell_type": "code",
   "execution_count": null,
   "id": "80da7154",
   "metadata": {},
   "outputs": [],
   "source": [
    "import itertools\n",
    "def plot_confusion_matrix(cm, classes,\n",
    "                          normalize=False,\n",
    "                          title='Confusion matrix',\n",
    "                          cmap=plt.cm.Oranges):\n",
    "    \"\"\"\n",
    "    This function prints and plots the confusion matrix.\n",
    "    Normalization can be applied by setting `normalize=True`.\n",
    "    \"\"\"\n",
    "    if normalize:\n",
    "        cm = cm.astype('float') / cm.sum(axis=1)[:, np.newaxis]\n",
    "        print(\"Normalized confusion matrix\")\n",
    "    else:\n",
    "        print('Confusion matrix, without normalization')\n",
    "    plt.figure(figsize=(8, 6))\n",
    "    plt.imshow(cm, interpolation='nearest', cmap=cmap)\n",
    "    plt.title(title)\n",
    "    tick_marks = np.arange(len(classes))\n",
    "    plt.xticks(tick_marks, classes, rotation=45)\n",
    "    plt.yticks(tick_marks, classes)\n",
    "    plt.colorbar()\n",
    "\n",
    "    fmt = '.4f' if normalize else 'd'\n",
    "    thresh = cm.max() / 2.\n",
    "    for i, j in itertools.product(range(cm.shape[0]), range(cm.shape[1])):\n",
    "        plt.text(j, i, format(cm[i, j], fmt),\n",
    "                 horizontalalignment=\"center\",\n",
    "                 color=\"white\" if cm[i, j] > thresh else \"black\")\n",
    "\n",
    "    plt.tight_layout()\n",
    "    plt.rcParams['font.size'] = '20'\n",
    "    \n",
    "    \n",
    "plot_confusion_matrix(cm, classes=['F', 'M', 'N', 'Q', 'S', 'V'],normalize=False,title='Confusion matrix')\n",
    "plt.ylabel('True label')\n",
    "plt.xlabel('Predicted label')\n",
    "plt.savefig('confusion matrix' + '.jpg', dpi=500, bbox_inches = 'tight')"
   ]
  },
  {
   "cell_type": "code",
   "execution_count": null,
   "id": "e00d9ccd",
   "metadata": {},
   "outputs": [],
   "source": [
    "import itertools\n",
    "def plot_confusion_matrix(cm, classes,\n",
    "                          normalize=False,\n",
    "                          title='Confusion matrix',\n",
    "                          cmap=plt.cm.Oranges):\n",
    "    \"\"\"\n",
    "    This function prints and plots the confusion matrix.\n",
    "    Normalization can be applied by setting `normalize=True`.\n",
    "    \"\"\"\n",
    "    if normalize:\n",
    "        cm = cm.astype('float') / cm.sum(axis=1)[:, np.newaxis]\n",
    "        print(\"Normalized confusion matrix\")\n",
    "    else:\n",
    "        print('Confusion matrix, without normalization')\n",
    "    plt.figure(figsize=(8, 6))\n",
    "    plt.imshow(cm, interpolation='nearest', cmap=cmap)\n",
    "    plt.title(title)\n",
    "    tick_marks = np.arange(len(classes))\n",
    "    plt.xticks(tick_marks, classes, rotation=45)\n",
    "    plt.yticks(tick_marks, classes)\n",
    "    plt.colorbar()\n",
    "\n",
    "    fmt = '.4f' if normalize else 'd'\n",
    "    thresh = cm.max() / 2.\n",
    "    for i, j in itertools.product(range(cm.shape[0]), range(cm.shape[1])):\n",
    "        plt.text(j, i, format(cm[i, j], fmt),\n",
    "                 horizontalalignment=\"center\",\n",
    "                 color=\"white\" if cm[i, j] > thresh else \"black\")\n",
    "\n",
    "    plt.tight_layout()\n",
    "    plt.rcParams['font.size'] = '16'\n",
    "    \n",
    "    \n",
    "plot_confusion_matrix(cm, classes=['F', 'M', 'N', 'Q', 'S', 'V'],normalize=True,title='normalized Confusion matrix')\n",
    "plt.ylabel('True label')\n",
    "plt.xlabel('Predicted label')\n",
    "plt.savefig('normalized confusion matrix' + '.jpg', dpi=500, bbox_inches = 'tight')"
   ]
  }
 ],
 "metadata": {
  "kernelspec": {
   "display_name": "Python 3 (ipykernel)",
   "language": "python",
   "name": "python3"
  },
  "language_info": {
   "codemirror_mode": {
    "name": "ipython",
    "version": 3
   },
   "file_extension": ".py",
   "mimetype": "text/x-python",
   "name": "python",
   "nbconvert_exporter": "python",
   "pygments_lexer": "ipython3",
   "version": "3.9.13"
  }
 },
 "nbformat": 4,
 "nbformat_minor": 5
}
