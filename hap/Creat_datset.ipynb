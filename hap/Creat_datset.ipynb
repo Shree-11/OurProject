{
 "cells": [
  {
   "cell_type": "code",
   "execution_count": 1,
   "metadata": {},
   "outputs": [],
   "source": [
    "import os\n",
    "import csv\n",
    "import shutil"
   ]
  },
  {
   "cell_type": "code",
   "execution_count": 2,
   "metadata": {
    "scrolled": true
   },
   "outputs": [
    {
     "name": "stdout",
     "output_type": "stream",
     "text": [
      "Requirement already satisfied: flask in c:\\users\\shrutha v bhat\\anaconda3\\lib\\site-packages (1.1.2)\n",
      "Requirement already satisfied: Jinja2>=2.10.1 in c:\\users\\shrutha v bhat\\anaconda3\\lib\\site-packages (from flask) (2.11.3)\n",
      "Requirement already satisfied: itsdangerous>=0.24 in c:\\users\\shrutha v bhat\\anaconda3\\lib\\site-packages (from flask) (2.0.1)\n",
      "Requirement already satisfied: Werkzeug>=0.15 in c:\\users\\shrutha v bhat\\anaconda3\\lib\\site-packages (from flask) (2.0.3)\n",
      "Requirement already satisfied: click>=5.1 in c:\\users\\shrutha v bhat\\anaconda3\\lib\\site-packages (from flask) (8.0.4)\n",
      "Requirement already satisfied: colorama in c:\\users\\shrutha v bhat\\anaconda3\\lib\\site-packages (from click>=5.1->flask) (0.4.6)\n",
      "Requirement already satisfied: MarkupSafe>=0.23 in c:\\users\\shrutha v bhat\\anaconda3\\lib\\site-packages (from Jinja2>=2.10.1->flask) (2.0.1)\n",
      "Note: you may need to restart the kernel to use updated packages.\n"
     ]
    }
   ],
   "source": [
    "pip install flask"
   ]
  },
  {
   "cell_type": "code",
   "execution_count": 3,
   "metadata": {},
   "outputs": [],
   "source": [
    "class_labels = ['F','M','N','Q','S','V']"
   ]
  },
  {
   "cell_type": "code",
   "execution_count": 4,
   "metadata": {},
   "outputs": [
    {
     "name": "stdout",
     "output_type": "stream",
     "text": [
      "['F', 'M', 'N', 'Q', 'S', 'V']\n"
     ]
    }
   ],
   "source": [
    "# for label in class_labels:\n",
    "dest_path = os.path.join('input/train') # join path to the train directory\n",
    "m= os.listdir(dest_path) # list of all files and directories in the specified directory (arson, burglary directory)\n",
    "print(m)\n",
    "# os.makedirs(dest_path)\n",
    "for fol in m: # for all event directories\n",
    "    new=os.path.join(dest_path,fol) # join path to all event directories\n",
    "    for i in os.listdir(new): # for each file in an event directory (image files)\n",
    "        with open('train_path.txt', 'a') as w: # open file\n",
    "            if fol=='F':\n",
    "                n=0\n",
    "            elif fol=='M':\n",
    "                n=1\n",
    "            elif fol=='N':\n",
    "                n=2\n",
    "            elif fol=='Q':\n",
    "                n=3\n",
    "            elif fol=='S':\n",
    "                n=4\n",
    "            elif fol=='V':\n",
    "                n=5\n",
    "                \n",
    "            w.write(dest_path+'/'+fol+'/'+i+' '+str(n)+'|') # append filepath with number(n)\n",
    "            #input/train/Arson/Arson037_x264.mp4 0\n",
    "        "
   ]
  },
  {
   "cell_type": "code",
   "execution_count": null,
   "metadata": {},
   "outputs": [],
   "source": []
  }
 ],
 "metadata": {
  "kernelspec": {
   "display_name": "Python 3 (ipykernel)",
   "language": "python",
   "name": "python3"
  },
  "language_info": {
   "codemirror_mode": {
    "name": "ipython",
    "version": 3
   },
   "file_extension": ".py",
   "mimetype": "text/x-python",
   "name": "python",
   "nbconvert_exporter": "python",
   "pygments_lexer": "ipython3",
   "version": "3.9.13"
  }
 },
 "nbformat": 4,
 "nbformat_minor": 2
}
