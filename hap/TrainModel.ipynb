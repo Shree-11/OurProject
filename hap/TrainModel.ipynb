{
 "cells": [
  {
   "cell_type": "code",
   "execution_count": 3,
   "id": "94fc06c6",
   "metadata": {},
   "outputs": [],
   "source": [
    "import numpy as np\n",
    "import pandas as pd\n",
    "from pathlib import Path\n",
    "import os.path\n",
    "import matplotlib.pyplot as plt\n",
    "import tensorflow as tf\n",
    "import cv2"
   ]
  },
  {
   "cell_type": "markdown",
   "id": "05828b62",
   "metadata": {},
   "source": [
    "<h2>N: Normal beat</h2>\n",
    "<h2>S: Supraventricular premature beat</h2>\n",
    "<h2>V: Premature ventricular contraction</h2>\n",
    "<h2>F: Fusion of ventricular and normal beat</h2>\n",
    "<h2>Q: Unclassifiable beat</h2>\n",
    "<h2>M: myocardial infarction</h2>"
   ]
  },
  {
   "cell_type": "code",
   "execution_count": 4,
   "id": "af978817",
   "metadata": {},
   "outputs": [
    {
     "data": {
      "text/html": [
       "<div>\n",
       "<style scoped>\n",
       "    .dataframe tbody tr th:only-of-type {\n",
       "        vertical-align: middle;\n",
       "    }\n",
       "\n",
       "    .dataframe tbody tr th {\n",
       "        vertical-align: top;\n",
       "    }\n",
       "\n",
       "    .dataframe thead th {\n",
       "        text-align: right;\n",
       "    }\n",
       "</style>\n",
       "<table border=\"1\" class=\"dataframe\">\n",
       "  <thead>\n",
       "    <tr style=\"text-align: right;\">\n",
       "      <th></th>\n",
       "      <th>Filepath</th>\n",
       "      <th>Label</th>\n",
       "    </tr>\n",
       "  </thead>\n",
       "  <tbody>\n",
       "    <tr>\n",
       "      <th>99194</th>\n",
       "      <td>input\\train\\V\\V995.png</td>\n",
       "      <td>V</td>\n",
       "    </tr>\n",
       "    <tr>\n",
       "      <th>99195</th>\n",
       "      <td>input\\train\\V\\V996.png</td>\n",
       "      <td>V</td>\n",
       "    </tr>\n",
       "    <tr>\n",
       "      <th>99196</th>\n",
       "      <td>input\\train\\V\\V997.png</td>\n",
       "      <td>V</td>\n",
       "    </tr>\n",
       "    <tr>\n",
       "      <th>99197</th>\n",
       "      <td>input\\train\\V\\V998.png</td>\n",
       "      <td>V</td>\n",
       "    </tr>\n",
       "    <tr>\n",
       "      <th>99198</th>\n",
       "      <td>input\\train\\V\\V999.png</td>\n",
       "      <td>V</td>\n",
       "    </tr>\n",
       "  </tbody>\n",
       "</table>\n",
       "</div>"
      ],
      "text/plain": [
       "                     Filepath Label\n",
       "99194  input\\train\\V\\V995.png     V\n",
       "99195  input\\train\\V\\V996.png     V\n",
       "99196  input\\train\\V\\V997.png     V\n",
       "99197  input\\train\\V\\V998.png     V\n",
       "99198  input\\train\\V\\V999.png     V"
      ]
     },
     "execution_count": 4,
     "metadata": {},
     "output_type": "execute_result"
    }
   ],
   "source": [
    "dir = Path('input/train')\n",
    "\n",
    "filepaths = list(dir.glob(r'**/*.png'))\n",
    "labels = list(map(lambda x: os.path.split(os.path.split(x)[0])[1], filepaths))\n",
    "\n",
    "\n",
    "filepaths = pd.Series(filepaths, name='Filepath').astype(str)\n",
    "labels = pd.Series(labels, name='Label')\n",
    "\n",
    "dataframe = pd.concat([filepaths , labels] , axis=1)\n",
    "dataframe.tail()"
   ]
  },
  {
   "cell_type": "code",
   "execution_count": 5,
   "id": "37948d91",
   "metadata": {},
   "outputs": [
    {
     "data": {
      "text/plain": [
       "N    75709\n",
       "M     8405\n",
       "Q     6431\n",
       "V     5789\n",
       "S     2223\n",
       "F      642\n",
       "Name: Label, dtype: int64"
      ]
     },
     "execution_count": 5,
     "metadata": {},
     "output_type": "execute_result"
    }
   ],
   "source": [
    "dataframe['Label'].value_counts()"
   ]
  },
  {
   "cell_type": "code",
   "execution_count": 6,
   "id": "ebc7af20",
   "metadata": {},
   "outputs": [
    {
     "data": {
      "text/plain": [
       "N    640\n",
       "Q    640\n",
       "S    640\n",
       "F    640\n",
       "M    640\n",
       "V    640\n",
       "Name: Label, dtype: int64"
      ]
     },
     "execution_count": 6,
     "metadata": {},
     "output_type": "execute_result"
    }
   ],
   "source": [
    "samples = []\n",
    "for category in ['N','M','Q','V','S','F']:\n",
    "    category_slice = dataframe.query(\"Label == @category\")\n",
    "    samples.append(category_slice.sample(640, random_state=1))\n",
    "\n",
    "dataframe_train = pd.concat(samples, axis=0).sample(frac=1.0, random_state=1).reset_index(drop=True)\n",
    "dataframe_train['Label'].value_counts()"
   ]
  },
  {
   "cell_type": "code",
   "execution_count": 7,
   "id": "9a095a69",
   "metadata": {},
   "outputs": [
    {
     "data": {
      "text/html": [
       "<div>\n",
       "<style scoped>\n",
       "    .dataframe tbody tr th:only-of-type {\n",
       "        vertical-align: middle;\n",
       "    }\n",
       "\n",
       "    .dataframe tbody tr th {\n",
       "        vertical-align: top;\n",
       "    }\n",
       "\n",
       "    .dataframe thead th {\n",
       "        text-align: right;\n",
       "    }\n",
       "</style>\n",
       "<table border=\"1\" class=\"dataframe\">\n",
       "  <thead>\n",
       "    <tr style=\"text-align: right;\">\n",
       "      <th></th>\n",
       "      <th>Filepath</th>\n",
       "      <th>Label</th>\n",
       "    </tr>\n",
       "  </thead>\n",
       "  <tbody>\n",
       "    <tr>\n",
       "      <th>3835</th>\n",
       "      <td>input\\train\\S\\S1594.png</td>\n",
       "      <td>S</td>\n",
       "    </tr>\n",
       "    <tr>\n",
       "      <th>3836</th>\n",
       "      <td>input\\train\\M\\M5641.png</td>\n",
       "      <td>M</td>\n",
       "    </tr>\n",
       "    <tr>\n",
       "      <th>3837</th>\n",
       "      <td>input\\train\\M\\M8804.png</td>\n",
       "      <td>M</td>\n",
       "    </tr>\n",
       "    <tr>\n",
       "      <th>3838</th>\n",
       "      <td>input\\train\\N\\N46498.png</td>\n",
       "      <td>N</td>\n",
       "    </tr>\n",
       "    <tr>\n",
       "      <th>3839</th>\n",
       "      <td>input\\train\\M\\M7168.png</td>\n",
       "      <td>M</td>\n",
       "    </tr>\n",
       "  </tbody>\n",
       "</table>\n",
       "</div>"
      ],
      "text/plain": [
       "                      Filepath Label\n",
       "3835   input\\train\\S\\S1594.png     S\n",
       "3836   input\\train\\M\\M5641.png     M\n",
       "3837   input\\train\\M\\M8804.png     M\n",
       "3838  input\\train\\N\\N46498.png     N\n",
       "3839   input\\train\\M\\M7168.png     M"
      ]
     },
     "execution_count": 7,
     "metadata": {},
     "output_type": "execute_result"
    }
   ],
   "source": [
    "dataframe_train.tail()"
   ]
  },
  {
   "cell_type": "code",
   "execution_count": 8,
   "id": "19085c81",
   "metadata": {},
   "outputs": [
    {
     "data": {
      "text/html": [
       "<div>\n",
       "<style scoped>\n",
       "    .dataframe tbody tr th:only-of-type {\n",
       "        vertical-align: middle;\n",
       "    }\n",
       "\n",
       "    .dataframe tbody tr th {\n",
       "        vertical-align: top;\n",
       "    }\n",
       "\n",
       "    .dataframe thead th {\n",
       "        text-align: right;\n",
       "    }\n",
       "</style>\n",
       "<table border=\"1\" class=\"dataframe\">\n",
       "  <thead>\n",
       "    <tr style=\"text-align: right;\">\n",
       "      <th></th>\n",
       "      <th>Filepath</th>\n",
       "      <th>Label</th>\n",
       "    </tr>\n",
       "  </thead>\n",
       "  <tbody>\n",
       "    <tr>\n",
       "      <th>24794</th>\n",
       "      <td>input\\test\\V\\V98.png</td>\n",
       "      <td>V</td>\n",
       "    </tr>\n",
       "    <tr>\n",
       "      <th>24795</th>\n",
       "      <td>input\\test\\V\\V981.png</td>\n",
       "      <td>V</td>\n",
       "    </tr>\n",
       "    <tr>\n",
       "      <th>24796</th>\n",
       "      <td>input\\test\\V\\V986.png</td>\n",
       "      <td>V</td>\n",
       "    </tr>\n",
       "    <tr>\n",
       "      <th>24797</th>\n",
       "      <td>input\\test\\V\\V987.png</td>\n",
       "      <td>V</td>\n",
       "    </tr>\n",
       "    <tr>\n",
       "      <th>24798</th>\n",
       "      <td>input\\test\\V\\V991.png</td>\n",
       "      <td>V</td>\n",
       "    </tr>\n",
       "  </tbody>\n",
       "</table>\n",
       "</div>"
      ],
      "text/plain": [
       "                    Filepath Label\n",
       "24794   input\\test\\V\\V98.png     V\n",
       "24795  input\\test\\V\\V981.png     V\n",
       "24796  input\\test\\V\\V986.png     V\n",
       "24797  input\\test\\V\\V987.png     V\n",
       "24798  input\\test\\V\\V991.png     V"
      ]
     },
     "execution_count": 8,
     "metadata": {},
     "output_type": "execute_result"
    }
   ],
   "source": [
    "dir = Path('input/test')\n",
    "\n",
    "filepaths = list(dir.glob(r'**/*.png'))\n",
    "labels = list(map(lambda x: os.path.split(os.path.split(x)[0])[1], filepaths))\n",
    "\n",
    "filepaths = pd.Series(filepaths, name='Filepath').astype(str)\n",
    "labels = pd.Series(labels, name='Label')\n",
    "\n",
    "dataframe_test = pd.concat([filepaths , labels] , axis=1)\n",
    "dataframe_test.tail()"
   ]
  },
  {
   "cell_type": "code",
   "execution_count": 9,
   "id": "2537c663",
   "metadata": {},
   "outputs": [
    {
     "data": {
      "text/plain": [
       "N    18926\n",
       "M     2101\n",
       "Q     1608\n",
       "V     1447\n",
       "S      556\n",
       "F      161\n",
       "Name: Label, dtype: int64"
      ]
     },
     "execution_count": 9,
     "metadata": {},
     "output_type": "execute_result"
    }
   ],
   "source": [
    "dataframe_test['Label'].value_counts()"
   ]
  },
  {
   "cell_type": "code",
   "execution_count": 10,
   "id": "b608ced5",
   "metadata": {},
   "outputs": [
    {
     "data": {
      "text/plain": [
       "M    160\n",
       "F    160\n",
       "Q    160\n",
       "N    160\n",
       "V    160\n",
       "S    160\n",
       "Name: Label, dtype: int64"
      ]
     },
     "execution_count": 10,
     "metadata": {},
     "output_type": "execute_result"
    }
   ],
   "source": [
    "samples = []\n",
    "for category in ['N','M','Q','V','S','F']:\n",
    "    category_slice = dataframe_test.query(\"Label == @category\")\n",
    "    samples.append(category_slice.sample(160, random_state=1))\n",
    "\n",
    "dataframe_test = pd.concat(samples, axis=0).sample(frac=1.0, random_state=1).reset_index(drop=True)\n",
    "dataframe_test['Label'].value_counts()"
   ]
  },
  {
   "cell_type": "code",
   "execution_count": 11,
   "id": "0d857f5d",
   "metadata": {},
   "outputs": [
    {
     "data": {
      "text/html": [
       "<div>\n",
       "<style scoped>\n",
       "    .dataframe tbody tr th:only-of-type {\n",
       "        vertical-align: middle;\n",
       "    }\n",
       "\n",
       "    .dataframe tbody tr th {\n",
       "        vertical-align: top;\n",
       "    }\n",
       "\n",
       "    .dataframe thead th {\n",
       "        text-align: right;\n",
       "    }\n",
       "</style>\n",
       "<table border=\"1\" class=\"dataframe\">\n",
       "  <thead>\n",
       "    <tr style=\"text-align: right;\">\n",
       "      <th></th>\n",
       "      <th>Filepath</th>\n",
       "      <th>Label</th>\n",
       "    </tr>\n",
       "  </thead>\n",
       "  <tbody>\n",
       "    <tr>\n",
       "      <th>955</th>\n",
       "      <td>input\\test\\S\\S1979.png</td>\n",
       "      <td>S</td>\n",
       "    </tr>\n",
       "    <tr>\n",
       "      <th>956</th>\n",
       "      <td>input\\test\\N\\N26059.png</td>\n",
       "      <td>N</td>\n",
       "    </tr>\n",
       "    <tr>\n",
       "      <th>957</th>\n",
       "      <td>input\\test\\F\\F418.png</td>\n",
       "      <td>F</td>\n",
       "    </tr>\n",
       "    <tr>\n",
       "      <th>958</th>\n",
       "      <td>input\\test\\M\\M971.png</td>\n",
       "      <td>M</td>\n",
       "    </tr>\n",
       "    <tr>\n",
       "      <th>959</th>\n",
       "      <td>input\\test\\N\\N84538.png</td>\n",
       "      <td>N</td>\n",
       "    </tr>\n",
       "  </tbody>\n",
       "</table>\n",
       "</div>"
      ],
      "text/plain": [
       "                    Filepath Label\n",
       "955   input\\test\\S\\S1979.png     S\n",
       "956  input\\test\\N\\N26059.png     N\n",
       "957    input\\test\\F\\F418.png     F\n",
       "958    input\\test\\M\\M971.png     M\n",
       "959  input\\test\\N\\N84538.png     N"
      ]
     },
     "execution_count": 11,
     "metadata": {},
     "output_type": "execute_result"
    }
   ],
   "source": [
    "dataframe_test.tail()"
   ]
  },
  {
   "cell_type": "markdown",
   "id": "b4f328cd",
   "metadata": {},
   "source": [
    "<h1>Image generators</h1>"
   ]
  },
  {
   "cell_type": "code",
   "execution_count": 12,
   "id": "4144e8e1",
   "metadata": {},
   "outputs": [],
   "source": [
    "def gray_torgb(image):\n",
    "    image = cv2.cvtColor(image, cv2.COLOR_BGR2GRAY)\n",
    "    image = cv2.merge((image,image,image))\n",
    "    image = tf.keras.applications.resnet50.preprocess_input(image)\n",
    "    return image"
   ]
  },
  {
   "cell_type": "code",
   "execution_count": 13,
   "id": "77b71e35",
   "metadata": {},
   "outputs": [],
   "source": [
    "train_generator = tf.keras.preprocessing.image.ImageDataGenerator(\n",
    "    preprocessing_function=gray_torgb,\n",
    "    rescale=1./255,\n",
    "    validation_split=0.2\n",
    "  \n",
    ")\n",
    "\n",
    "test_generator = tf.keras.preprocessing.image.ImageDataGenerator(\n",
    "    preprocessing_function=gray_torgb,\n",
    "    rescale=1./255\n",
    ")"
   ]
  },
  {
   "cell_type": "code",
   "execution_count": 14,
   "id": "f402cbe6",
   "metadata": {},
   "outputs": [
    {
     "name": "stdout",
     "output_type": "stream",
     "text": [
      "Found 3072 validated image filenames belonging to 6 classes.\n",
      "Found 768 validated image filenames belonging to 6 classes.\n",
      "Found 960 validated image filenames belonging to 6 classes.\n"
     ]
    }
   ],
   "source": [
    "size=224\n",
    "color_mode='rgb'\n",
    "batch_size=32\n",
    "\n",
    "train_images = train_generator.flow_from_dataframe(\n",
    "    dataframe=dataframe_train,\n",
    "    x_col='Filepath',\n",
    "    y_col='Label',\n",
    "    target_size=(size, size),\n",
    "    color_mode=color_mode,\n",
    "    class_mode='categorical',\n",
    "    batch_size=batch_size,\n",
    "    shuffle=True,\n",
    "    seed=42,\n",
    "    subset='training'\n",
    ")\n",
    "\n",
    "val_images = train_generator.flow_from_dataframe(\n",
    "    dataframe=dataframe_train,\n",
    "    x_col='Filepath',\n",
    "    y_col='Label',\n",
    "    target_size=(size, size),\n",
    "    color_mode=color_mode,\n",
    "    class_mode='categorical',\n",
    "    batch_size=batch_size,\n",
    "    shuffle=True,\n",
    "    seed=42,\n",
    "    subset='validation'\n",
    ")\n",
    "\n",
    "test_images = test_generator.flow_from_dataframe(\n",
    "    dataframe=dataframe_test,\n",
    "    x_col='Filepath',\n",
    "    y_col='Label',\n",
    "    target_size=(size, size),\n",
    "    color_mode=color_mode,\n",
    "    class_mode='categorical',\n",
    "    batch_size=batch_size,\n",
    "    shuffle=False\n",
    ")"
   ]
  },
  {
   "cell_type": "code",
   "execution_count": 15,
   "id": "aab8e915",
   "metadata": {},
   "outputs": [
    {
     "data": {
      "text/plain": [
       "{'F': 0, 'M': 1, 'N': 2, 'Q': 3, 'S': 4, 'V': 5}"
      ]
     },
     "execution_count": 15,
     "metadata": {},
     "output_type": "execute_result"
    }
   ],
   "source": [
    "test_images.class_indices"
   ]
  },
  {
   "cell_type": "code",
   "execution_count": 16,
   "id": "e5061048",
   "metadata": {},
   "outputs": [
    {
     "data": {
      "text/plain": [
       "<matplotlib.image.AxesImage at 0x2876b8ffbe0>"
      ]
     },
     "execution_count": 16,
     "metadata": {},
     "output_type": "execute_result"
    },
    {
     "data": {
      "image/png": "[encoded data removed]",
      "text/plain": [
       "<Figure size 640x480 with 1 Axes>"
      ]
     },
     "metadata": {},
     "output_type": "display_data"
    }
   ],
   "source": [
    "plt.imshow(test_images[0][0][3])"
   ]
  },
  {
   "cell_type": "code",
   "execution_count": 17,
   "id": "7dbeb6eb",
   "metadata": {},
   "outputs": [],
   "source": [
    "from tensorflow.keras.applications import ResNet50\n",
    "pretrained_model = ResNet50(\n",
    "                              input_shape=(224,224,3),\n",
    "                              include_top= False,\n",
    "                              weights='imagenet',\n",
    "                              pooling='avg'\n",
    "                              )\n",
    "\n",
    "pretrained_model.trainable = False"
   ]
  },
  {
   "cell_type": "code",
   "execution_count": 18,
   "id": "6d02b024",
   "metadata": {},
   "outputs": [
    {
     "name": "stdout",
     "output_type": "stream",
     "text": [
      "Model: \"sequential\"\n",
      "_________________________________________________________________\n",
      " Layer (type)                Output Shape              Param #   \n",
      "=================================================================\n",
      " resnet50 (Functional)       (None, 2048)              23587712  \n",
      "                                                                 \n",
      " flatten (Flatten)           (None, 2048)              0         \n",
      "                                                                 \n",
      " dropout (Dropout)           (None, 2048)              0         \n",
      "                                                                 \n",
      " dense (Dense)               (None, 128)               262272    \n",
      "                                                                 \n",
      " dense_1 (Dense)             (None, 64)                8256      \n",
      "                                                                 \n",
      " dense_2 (Dense)             (None, 6)                 390       \n",
      "                                                                 \n",
      "=================================================================\n",
      "Total params: 23,858,630\n",
      "Trainable params: 270,918\n",
      "Non-trainable params: 23,587,712\n",
      "_________________________________________________________________\n"
     ]
    }
   ],
   "source": [
    "from tensorflow.keras.layers import *\n",
    "from tensorflow.keras.models import *\n",
    "\n",
    "model = Sequential ([\n",
    "                        pretrained_model,\n",
    "                        Flatten(),\n",
    "                        Dropout(0.2),\n",
    "                        Dense(128, activation='relu'),\n",
    "                        Dense(64, activation='relu'),\n",
    "                        Dense(6, activation='softmax')\n",
    "                    ])\n",
    "\n",
    "\n",
    "model.summary()"
   ]
  },
  {
   "cell_type": "code",
   "execution_count": 19,
   "id": "d4be8b7e",
   "metadata": {},
   "outputs": [],
   "source": [
    "import keras\n",
    "checkpoint = keras.callbacks.ModelCheckpoint(\n",
    "    filepath='best_model.h5',\n",
    "    save_weights_only=False,\n",
    "    monitor='val_accuracy',\n",
    "    mode='max',\n",
    "    save_best_only=True,\n",
    "    verbose=1)"
   ]
  },
  {
   "cell_type": "code",
   "execution_count": 20,
   "id": "b0855d8b",
   "metadata": {},
   "outputs": [],
   "source": [
    "model.compile(loss='categorical_crossentropy',optimizer='adam',\n",
    "            metrics=['accuracy',\n",
    "                     'Precision',\n",
    "                     'Recall',\n",
    "                     tf.keras.metrics.AUC(\n",
    "                                    num_thresholds=200,\n",
    "                                    curve=\"ROC\",\n",
    "                                    summation_method=\"interpolation\",\n",
    "                                    multi_label=False\n",
    "                                    )])"
   ]
  },
  {
   "cell_type": "code",
   "execution_count": 21,
   "id": "1abf60ed",
   "metadata": {},
   "outputs": [
    {
     "name": "stdout",
     "output_type": "stream",
     "text": [
      "Epoch 1/10\n",
      "96/96 [==============================] - ETA: 0s - loss: 1.2960 - accuracy: 0.4593 - precision: 0.7672 - recall: 0.1234 - auc: 0.8349\n",
      "Epoch 1: val_accuracy improved from -inf to 0.61589, saving model to best_model.h5\n",
      "96/96 [==============================] - 330s 3s/step - loss: 1.2960 - accuracy: 0.4593 - precision: 0.7672 - recall: 0.1234 - auc: 0.8349 - val_loss: 0.7599 - val_accuracy: 0.6159 - val_precision: 0.8875 - val_recall: 0.5443 - val_auc: 0.9565\n",
      "Epoch 2/10\n",
      "96/96 [==============================] - ETA: 0s - loss: 0.6789 - accuracy: 0.7406 - precision: 0.8029 - recall: 0.5859 - auc: 0.9584\n",
      "Epoch 2: val_accuracy improved from 0.61589 to 0.88411, saving model to best_model.h5\n",
      "96/96 [==============================] - 315s 3s/step - loss: 0.6789 - accuracy: 0.7406 - precision: 0.8029 - recall: 0.5859 - auc: 0.9584 - val_loss: 0.4534 - val_accuracy: 0.8841 - val_precision: 0.9003 - val_recall: 0.8581 - val_auc: 0.9860\n",
      "Epoch 3/10\n",
      "96/96 [==============================] - ETA: 0s - loss: 0.4784 - accuracy: 0.8301 - precision: 0.8498 - recall: 0.7936 - auc: 0.9795\n",
      "Epoch 3: val_accuracy improved from 0.88411 to 0.91146, saving model to best_model.h5\n",
      "96/96 [==============================] - 318s 3s/step - loss: 0.4784 - accuracy: 0.8301 - precision: 0.8498 - recall: 0.7936 - auc: 0.9795 - val_loss: 0.3270 - val_accuracy: 0.9115 - val_precision: 0.9206 - val_recall: 0.9062 - val_auc: 0.9916\n",
      "Epoch 4/10\n",
      "96/96 [==============================] - ETA: 0s - loss: 0.3823 - accuracy: 0.8652 - precision: 0.8729 - recall: 0.8451 - auc: 0.9856\n",
      "Epoch 4: val_accuracy improved from 0.91146 to 0.91927, saving model to best_model.h5\n",
      "96/96 [==============================] - 353s 4s/step - loss: 0.3823 - accuracy: 0.8652 - precision: 0.8729 - recall: 0.8451 - auc: 0.9856 - val_loss: 0.2641 - val_accuracy: 0.9193 - val_precision: 0.9239 - val_recall: 0.9167 - val_auc: 0.9940\n",
      "Epoch 5/10\n",
      "96/96 [==============================] - ETA: 0s - loss: 0.3470 - accuracy: 0.8779 - precision: 0.8862 - recall: 0.8672 - auc: 0.9870\n",
      "Epoch 5: val_accuracy did not improve from 0.91927\n",
      "96/96 [==============================] - 381s 4s/step - loss: 0.3470 - accuracy: 0.8779 - precision: 0.8862 - recall: 0.8672 - auc: 0.9870 - val_loss: 0.2778 - val_accuracy: 0.9076 - val_precision: 0.9133 - val_recall: 0.9049 - val_auc: 0.9915\n",
      "Epoch 6/10\n",
      "96/96 [==============================] - ETA: 0s - loss: 0.2975 - accuracy: 0.8919 - precision: 0.8956 - recall: 0.8848 - auc: 0.9905\n",
      "Epoch 6: val_accuracy improved from 0.91927 to 0.93359, saving model to best_model.h5\n",
      "96/96 [==============================] - 385s 4s/step - loss: 0.2975 - accuracy: 0.8919 - precision: 0.8956 - recall: 0.8848 - auc: 0.9905 - val_loss: 0.2141 - val_accuracy: 0.9336 - val_precision: 0.9336 - val_recall: 0.9336 - val_auc: 0.9956\n",
      "Epoch 7/10\n",
      "96/96 [==============================] - ETA: 0s - loss: 0.2612 - accuracy: 0.9079 - precision: 0.9134 - recall: 0.9033 - auc: 0.9923\n",
      "Epoch 7: val_accuracy did not improve from 0.93359\n",
      "96/96 [==============================] - 346s 4s/step - loss: 0.2612 - accuracy: 0.9079 - precision: 0.9134 - recall: 0.9033 - auc: 0.9923 - val_loss: 0.2293 - val_accuracy: 0.9102 - val_precision: 0.9171 - val_recall: 0.9076 - val_auc: 0.9940\n",
      "Epoch 8/10\n",
      "96/96 [==============================] - ETA: 0s - loss: 0.2681 - accuracy: 0.9027 - precision: 0.9065 - recall: 0.8991 - auc: 0.9913\n",
      "Epoch 8: val_accuracy did not improve from 0.93359\n",
      "96/96 [==============================] - 320s 3s/step - loss: 0.2681 - accuracy: 0.9027 - precision: 0.9065 - recall: 0.8991 - auc: 0.9913 - val_loss: 0.2269 - val_accuracy: 0.9258 - val_precision: 0.9292 - val_recall: 0.9232 - val_auc: 0.9947\n",
      "Epoch 9/10\n",
      "96/96 [==============================] - ETA: 0s - loss: 0.2847 - accuracy: 0.9001 - precision: 0.9039 - recall: 0.8945 - auc: 0.9901\n",
      "Epoch 9: val_accuracy improved from 0.93359 to 0.94922, saving model to best_model.h5\n",
      "96/96 [==============================] - 344s 4s/step - loss: 0.2847 - accuracy: 0.9001 - precision: 0.9039 - recall: 0.8945 - auc: 0.9901 - val_loss: 0.1718 - val_accuracy: 0.9492 - val_precision: 0.9491 - val_recall: 0.9466 - val_auc: 0.9966\n",
      "Epoch 10/10\n",
      "96/96 [==============================] - ETA: 0s - loss: 0.2234 - accuracy: 0.9202 - precision: 0.9224 - recall: 0.9176 - auc: 0.9942\n",
      "Epoch 10: val_accuracy did not improve from 0.94922\n",
      "96/96 [==============================] - 342s 4s/step - loss: 0.2234 - accuracy: 0.9202 - precision: 0.9224 - recall: 0.9176 - auc: 0.9942 - val_loss: 0.1751 - val_accuracy: 0.9375 - val_precision: 0.9399 - val_recall: 0.9362 - val_auc: 0.9964\n",
      "Wall time: 57min 16s\n"
     ]
    }
   ],
   "source": [
    "%%time\n",
    "result=model.fit(\n",
    "    train_images,\n",
    "    steps_per_epoch=3072//32,\n",
    "    validation_data=val_images,\n",
    "    validation_steps=768//32,\n",
    "    epochs=10,\n",
    "    callbacks=[checkpoint]\n",
    ")"
   ]
  },
  {
   "cell_type": "code",
   "execution_count": 22,
   "id": "f686075e",
   "metadata": {},
   "outputs": [
    {
     "name": "stdout",
     "output_type": "stream",
     "text": [
      "     Test Loss: 0.1799\n",
      " Test Accuracy: 94.1667%\n",
      "Test Precision: 94.3574%\n",
      "   Test Recall: 94.0625%\n",
      "      Test AUC: 0.9962\n"
     ]
    }
   ],
   "source": [
    "from keras.models import load_model\n",
    "best_model=load_model('best_model.h5')\n",
    "results = best_model.evaluate(test_images, verbose=0)\n",
    "\n",
    "print(\"     Test Loss: {:.4f}\".format(results[0]))\n",
    "print(\" Test Accuracy: {:.4f}%\".format(results[1] * 100))\n",
    "print(\"Test Precision: {:.4f}%\".format(results[2] * 100))\n",
    "print(\"   Test Recall: {:.4f}%\".format(results[3] * 100))\n",
    "print(\"      Test AUC: {:.4f}\".format(results[4] ))"
   ]
  },
  {
   "cell_type": "code",
   "execution_count": 23,
   "id": "22e75db5",
   "metadata": {},
   "outputs": [
    {
     "data": {
      "image/png": "[encoded data removed]",
      "text/plain": [
       "<Figure size 640x480 with 1 Axes>"
      ]
     },
     "metadata": {},
     "output_type": "display_data"
    }
   ],
   "source": [
    "import matplotlib.pyplot as plt\n",
    "\n",
    "plt.plot(result.history['loss'])\n",
    "plt.plot(result.history['val_loss'])\n",
    "plt.legend(['Training', 'Validation'])\n",
    "plt.title('Training and Validation losses')\n",
    "plt.xlabel('epoch')\n",
    "plt.ylabel('loss')\n",
    "plt.savefig( 'loss.jpg', dpi=500, bbox_inches = 'tight')"
   ]
  },
  {
   "cell_type": "code",
   "execution_count": 24,
   "id": "e6045eb1",
   "metadata": {},
   "outputs": [
    {
     "data": {
      "image/png": "[encoded data removed]",
      "text/plain": [
       "<Figure size 640x480 with 1 Axes>"
      ]
     },
     "metadata": {},
     "output_type": "display_data"
    }
   ],
   "source": [
    "plt.plot(result.history['accuracy'])\n",
    "plt.plot(result.history['val_accuracy'])\n",
    "plt.legend(['Training', 'Validation'])\n",
    "plt.title('Training and Validation accuracy')\n",
    "plt.xlabel('epoch')\n",
    "plt.ylabel('accuracy')\n",
    "plt.savefig( 'accuracy.jpg', dpi=500, bbox_inches = 'tight')"
   ]
  },
  {
   "cell_type": "code",
   "execution_count": 25,
   "id": "75b8cf48",
   "metadata": {},
   "outputs": [
    {
     "name": "stdout",
     "output_type": "stream",
     "text": [
      "30/30 [==============================] - 80s 3s/step\n"
     ]
    },
    {
     "data": {
      "text/plain": [
       "array([[3.44441347e-08, 9.93830144e-01, 4.34535876e-20, 6.33799920e-16,\n",
       "        6.16920181e-03, 6.50200775e-07],\n",
       "       [8.92202437e-01, 3.97461008e-06, 4.10542178e-08, 3.37371632e-04,\n",
       "        1.28030579e-03, 1.06175959e-01],\n",
       "       [4.70359286e-04, 7.62791497e-11, 1.21307252e-02, 9.81135130e-01,\n",
       "        5.24613313e-08, 6.26380369e-03],\n",
       "       ...,\n",
       "       [8.83794487e-01, 1.42723241e-06, 1.90046805e-07, 9.22503066e-04,\n",
       "        5.33589220e-04, 1.14747666e-01],\n",
       "       [7.52948992e-09, 9.94213283e-01, 3.15499267e-21, 1.06559756e-16,\n",
       "        5.78625081e-03, 5.19420610e-07],\n",
       "       [2.97961918e-07, 4.13430378e-14, 9.85476434e-01, 1.45222889e-02,\n",
       "        1.03171326e-11, 9.31041768e-07]], dtype=float32)"
      ]
     },
     "execution_count": 25,
     "metadata": {},
     "output_type": "execute_result"
    }
   ],
   "source": [
    "y_pred = best_model.predict(test_images)\n",
    "y_pred"
   ]
  },
  {
   "cell_type": "code",
   "execution_count": 26,
   "id": "3d331178",
   "metadata": {},
   "outputs": [
    {
     "data": {
      "text/plain": [
       "array([1, 0, 3, 3, 3, 1, 5, 1, 2, 2, 5, 3, 1, 2, 4, 4, 2, 4, 5, 2, 1, 3,\n",
       "       4, 2, 4, 4, 4, 3, 2, 5, 3, 1, 2, 3, 2, 3, 4, 5, 4, 5, 0, 5, 1, 3,\n",
       "       1, 4, 1, 4, 1, 0, 2, 2, 0, 3, 2, 0, 5, 0, 4, 0, 3, 5, 2, 5, 3, 0,\n",
       "       5, 3, 1, 5, 1, 5, 5, 0, 5, 3, 0, 2, 0, 2, 0, 0, 4, 3, 2, 5, 2, 4,\n",
       "       5, 5, 4, 5, 0, 1, 4, 2, 4, 1, 4, 2, 5, 2, 4, 5, 4, 4, 1, 0, 1, 4,\n",
       "       2, 4, 4, 5, 2, 2, 2, 3, 3, 3, 0, 2, 4, 0, 1, 3, 4, 1, 1, 5, 4, 5,\n",
       "       2, 4, 2, 0, 3, 3, 2, 0, 1, 2, 1, 3, 0, 0, 4, 3, 2, 1, 5, 3, 0, 4,\n",
       "       1, 2, 1, 3, 0, 3, 3, 5, 5, 3, 1, 1, 4, 0, 3, 0, 5, 4, 1, 1, 0, 5,\n",
       "       2, 5, 0, 2, 5, 0, 1, 3, 4, 4, 4, 1, 4, 2, 1, 4, 3, 4, 4, 4, 0, 0,\n",
       "       5, 1, 5, 0, 5, 0, 1, 2, 0, 2, 4, 0, 0, 3, 0, 4, 2, 4, 1, 0, 5, 0,\n",
       "       0, 0, 3, 2, 1, 2, 0, 5, 2, 4, 1, 2, 4, 0, 5, 2, 5, 0, 4, 1, 3, 2,\n",
       "       4, 4, 0, 5, 0, 3, 2, 3, 2, 4, 2, 3, 4, 4, 3, 3, 0, 5, 4, 0, 2, 1,\n",
       "       5, 1, 3, 2, 5, 5, 1, 0, 2, 5, 0, 2, 0, 1, 4, 5, 1, 4, 0, 0, 2, 3,\n",
       "       3, 2, 0, 5, 4, 3, 1, 2, 1, 0, 1, 0, 5, 2, 3, 2, 0, 4, 5, 4, 5, 1,\n",
       "       4, 4, 1, 1, 1, 1, 5, 0, 5, 0, 5, 1, 5, 1, 1, 2, 2, 0, 2, 0, 3, 2,\n",
       "       5, 5, 2, 1, 1, 0, 0, 2, 2, 4, 0, 2, 3, 0, 2, 4, 2, 3, 0, 5, 5, 0,\n",
       "       3, 0, 5, 2, 2, 3, 4, 4, 2, 1, 4, 5, 2, 4, 0, 2, 3, 3, 4, 5, 4, 2,\n",
       "       4, 3, 4, 0, 2, 4, 1, 4, 3, 4, 0, 4, 5, 1, 0, 5, 1, 1, 2, 3, 0, 0,\n",
       "       1, 3, 0, 5, 2, 5, 4, 2, 0, 5, 3, 4, 3, 2, 2, 1, 4, 1, 4, 4, 2, 0,\n",
       "       4, 4, 0, 3, 2, 3, 4, 2, 2, 4, 5, 2, 4, 2, 1, 0, 0, 4, 4, 3, 2, 3,\n",
       "       5, 5, 3, 1, 1, 2, 1, 3, 3, 1, 1, 3, 2, 4, 0, 2, 1, 1, 2, 5, 3, 3,\n",
       "       1, 4, 0, 2, 1, 4, 3, 4, 5, 4, 5, 2, 5, 3, 2, 3, 0, 3, 5, 5, 1, 2,\n",
       "       2, 2, 2, 2, 5, 3, 4, 3, 3, 1, 4, 2, 4, 4, 1, 3, 4, 0, 5, 5, 2, 3,\n",
       "       5, 3, 5, 4, 5, 0, 3, 4, 3, 0, 1, 3, 2, 3, 5, 3, 1, 2, 4, 5, 5, 0,\n",
       "       4, 0, 4, 0, 4, 0, 3, 1, 0, 5, 3, 5, 4, 0, 2, 2, 3, 1, 3, 0, 4, 5,\n",
       "       4, 5, 1, 5, 3, 1, 3, 2, 0, 0, 5, 5, 1, 3, 5, 4, 0, 1, 2, 1, 1, 0,\n",
       "       3, 5, 3, 4, 0, 2, 1, 3, 2, 4, 2, 2, 0, 2, 2, 2, 3, 3, 3, 5, 3, 0,\n",
       "       1, 5, 4, 3, 0, 1, 0, 0, 0, 2, 4, 1, 2, 5, 0, 0, 0, 4, 2, 0, 2, 5,\n",
       "       5, 5, 1, 0, 3, 1, 3, 4, 4, 0, 3, 0, 3, 1, 3, 5, 0, 3, 4, 2, 0, 5,\n",
       "       4, 4, 3, 2, 5, 0, 0, 0, 1, 3, 2, 3, 1, 5, 1, 3, 4, 2, 2, 2, 0, 1,\n",
       "       0, 3, 1, 1, 5, 1, 4, 1, 1, 0, 3, 3, 4, 0, 3, 1, 1, 2, 1, 5, 1, 3,\n",
       "       4, 4, 0, 0, 5, 2, 0, 4, 0, 0, 1, 4, 2, 1, 3, 0, 2, 3, 0, 0, 4, 1,\n",
       "       5, 3, 4, 1, 2, 2, 2, 1, 0, 1, 5, 0, 5, 5, 2, 5, 2, 2, 3, 1, 2, 1,\n",
       "       4, 2, 5, 0, 0, 2, 0, 0, 4, 5, 3, 5, 2, 3, 3, 5, 3, 3, 4, 1, 5, 5,\n",
       "       3, 3, 0, 1, 0, 4, 1, 0, 1, 2, 3, 3, 1, 3, 2, 5, 4, 4, 4, 5, 1, 5,\n",
       "       0, 0, 0, 4, 1, 3, 4, 5, 1, 1, 0, 0, 4, 5, 5, 5, 1, 5, 2, 1, 3, 0,\n",
       "       5, 1, 3, 4, 1, 3, 0, 4, 1, 5, 4, 5, 2, 3, 5, 5, 5, 5, 1, 2, 3, 4,\n",
       "       3, 4, 2, 0, 2, 1, 2, 1, 0, 4, 5, 0, 4, 5, 0, 5, 0, 3, 2, 4, 2, 1,\n",
       "       0, 2, 0, 5, 0, 3, 5, 4, 3, 1, 4, 0, 3, 3, 4, 2, 0, 1, 1, 5, 3, 1,\n",
       "       1, 2, 4, 4, 0, 4, 3, 1, 4, 1, 5, 0, 2, 3, 3, 1, 2, 4, 4, 2, 5, 4,\n",
       "       1, 3, 4, 3, 2, 1, 2, 2, 3, 1, 0, 5, 3, 0, 2, 5, 2, 5, 4, 5, 0, 5,\n",
       "       3, 3, 2, 5, 3, 5, 3, 0, 4, 4, 1, 1, 1, 0, 5, 4, 5, 0, 1, 2, 3, 2,\n",
       "       2, 0, 3, 5, 4, 1, 0, 5, 3, 0, 4, 5, 1, 0, 3, 0, 3, 4, 1, 1, 4, 3,\n",
       "       0, 4, 5, 2, 2, 0, 4, 4, 0, 4, 2, 0, 1, 2], dtype=int64)"
      ]
     },
     "execution_count": 26,
     "metadata": {},
     "output_type": "execute_result"
    }
   ],
   "source": [
    "y_pred = np.argmax(y_pred, axis=1)\n",
    "y_pred"
   ]
  },
  {
   "cell_type": "code",
   "execution_count": 27,
   "id": "fc64d2da",
   "metadata": {},
   "outputs": [
    {
     "name": "stdout",
     "output_type": "stream",
     "text": [
      "[[149   0   0   0   0  11]\n",
      " [  0 147   0   0  13   0]\n",
      " [  0   0 160   0   0   0]\n",
      " [  0   0   4 156   0   0]\n",
      " [  2   5   0   0 152   1]\n",
      " [ 19   0   0   1   0 140]]\n",
      "              precision    recall  f1-score   support\n",
      "\n",
      "           F     0.8765    0.9313    0.9030       160\n",
      "           M     0.9671    0.9187    0.9423       160\n",
      "           N     0.9756    1.0000    0.9877       160\n",
      "           Q     0.9936    0.9750    0.9842       160\n",
      "           S     0.9212    0.9500    0.9354       160\n",
      "           V     0.9211    0.8750    0.8974       160\n",
      "\n",
      "    accuracy                         0.9417       960\n",
      "   macro avg     0.9425    0.9417    0.9417       960\n",
      "weighted avg     0.9425    0.9417    0.9417       960\n",
      "\n"
     ]
    }
   ],
   "source": [
    "from sklearn.metrics import confusion_matrix, classification_report\n",
    "\n",
    "\n",
    "cm = confusion_matrix(test_images.labels, y_pred)\n",
    "print(cm)\n",
    "\n",
    "report = classification_report(test_images.labels, y_pred, target_names=['F', 'M', 'N', 'Q', 'S', 'V'],digits=4)\n",
    "print(report )\n",
    "\n",
    "def report_to_df(report):\n",
    "    report = [x.split(' ') for x in report.split('\\n')]\n",
    "    header = ['Class Name']+[x for x in report[0] if x!='']\n",
    "    values = []\n",
    "    for row in report[1:-5]:\n",
    "        row = [value for value in row if value!='']\n",
    "        if row!=[]:\n",
    "            values.append(row)\n",
    "    df = pd.DataFrame(data = values, columns = header)\n",
    "    return df\n",
    "report = report_to_df(report)\n",
    "\n",
    "report.to_csv('classification report.csv', index=True)"
   ]
  },
  {
   "cell_type": "code",
   "execution_count": null,
   "id": "80da7154",
   "metadata": {},
   "outputs": [],
   "source": [
    "import itertools\n",
    "def plot_confusion_matrix(cm, classes,\n",
    "                          normalize=False,\n",
    "                          title='Confusion matrix',\n",
    "                          cmap=plt.cm.Oranges):\n",
    "    \"\"\"\n",
    "    This function prints and plots the confusion matrix.\n",
    "    Normalization can be applied by setting `normalize=True`.\n",
    "    \"\"\"\n",
    "    if normalize:\n",
    "        cm = cm.astype('float') / cm.sum(axis=1)[:, np.newaxis]\n",
    "        print(\"Normalized confusion matrix\")\n",
    "    else:\n",
    "        print('Confusion matrix, without normalization')\n",
    "    plt.figure(figsize=(8, 6))\n",
    "    plt.imshow(cm, interpolation='nearest', cmap=cmap)\n",
    "    plt.title(title)\n",
    "    tick_marks = np.arange(len(classes))\n",
    "    plt.xticks(tick_marks, classes, rotation=45)\n",
    "    plt.yticks(tick_marks, classes)\n",
    "    plt.colorbar()\n",
    "\n",
    "    fmt = '.4f' if normalize else 'd'\n",
    "    thresh = cm.max() / 2.\n",
    "    for i, j in itertools.product(range(cm.shape[0]), range(cm.shape[1])):\n",
    "        plt.text(j, i, format(cm[i, j], fmt),\n",
    "                 horizontalalignment=\"center\",\n",
    "                 color=\"white\" if cm[i, j] > thresh else \"black\")\n",
    "\n",
    "    plt.tight_layout()\n",
    "    plt.rcParams['font.size'] = '20'\n",
    "    \n",
    "    \n",
    "plot_confusion_matrix(cm, classes=['F', 'M', 'N', 'Q', 'S', 'V'],normalize=False,title='Confusion matrix')\n",
    "plt.ylabel('True label')\n",
    "plt.xlabel('Predicted label')\n",
    "plt.savefig('confusion matrix' + '.jpg', dpi=500, bbox_inches = 'tight')"
   ]
  },
  {
   "cell_type": "code",
   "execution_count": null,
   "id": "e00d9ccd",
   "metadata": {},
   "outputs": [],
   "source": [
    "import itertools\n",
    "def plot_confusion_matrix(cm, classes,\n",
    "                          normalize=False,\n",
    "                          title='Confusion matrix',\n",
    "                          cmap=plt.cm.Oranges):\n",
    "    \"\"\"\n",
    "    This function prints and plots the confusion matrix.\n",
    "    Normalization can be applied by setting `normalize=True`.\n",
    "    \"\"\"\n",
    "    if normalize:\n",
    "        cm = cm.astype('float') / cm.sum(axis=1)[:, np.newaxis]\n",
    "        print(\"Normalized confusion matrix\")\n",
    "    else:\n",
    "        print('Confusion matrix, without normalization')\n",
    "    plt.figure(figsize=(8, 6))\n",
    "    plt.imshow(cm, interpolation='nearest', cmap=cmap)\n",
    "    plt.title(title)\n",
    "    tick_marks = np.arange(len(classes))\n",
    "    plt.xticks(tick_marks, classes, rotation=45)\n",
    "    plt.yticks(tick_marks, classes)\n",
    "    plt.colorbar()\n",
    "\n",
    "    fmt = '.4f' if normalize else 'd'\n",
    "    thresh = cm.max() / 2.\n",
    "    for i, j in itertools.product(range(cm.shape[0]), range(cm.shape[1])):\n",
    "        plt.text(j, i, format(cm[i, j], fmt),\n",
    "                 horizontalalignment=\"center\",\n",
    "                 color=\"white\" if cm[i, j] > thresh else \"black\")\n",
    "\n",
    "    plt.tight_layout()\n",
    "    plt.rcParams['font.size'] = '16'\n",
    "    \n",
    "    \n",
    "plot_confusion_matrix(cm, classes=['F', 'M', 'N', 'Q', 'S', 'V'],normalize=True,title='normalized Confusion matrix')\n",
    "plt.ylabel('True label')\n",
    "plt.xlabel('Predicted label')\n",
    "plt.savefig('normalized confusion matrix' + '.jpg', dpi=500, bbox_inches = 'tight')"
   ]
  }
 ],
 "metadata": {
  "kernelspec": {
   "display_name": "Python 3 (ipykernel)",
   "language": "python",
   "name": "python3"
  },
  "language_info": {
   "codemirror_mode": {
    "name": "ipython",
    "version": 3
   },
   "file_extension": ".py",
   "mimetype": "text/x-python",
   "name": "python",
   "nbconvert_exporter": "python",
   "pygments_lexer": "ipython3",
   "version": "3.9.13"
  }
 },
 "nbformat": 4,
 "nbformat_minor": 5
}
